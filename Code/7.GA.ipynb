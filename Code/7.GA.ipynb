{
  "nbformat": 4,
  "nbformat_minor": 0,
  "metadata": {
    "colab": {
      "name": "GA.ipynb",
      "provenance": [],
      "collapsed_sections": []
    },
    "kernelspec": {
      "name": "python3",
      "display_name": "Python 3"
    },
    "accelerator": "GPU"
  },
  "cells": [
    {
      "cell_type": "code",
      "metadata": {
        "id": "09-gJO_pB07_",
        "colab_type": "code",
        "colab": {}
      },
      "source": [
        "import random\n",
        "import math\n",
        "from sklearn.tree import DecisionTreeClassifier\n",
        "from sklearn.preprocessing import StandardScaler, MinMaxScaler\n",
        "from sklearn.metrics import accuracy_score, f1_score,confusion_matrix,classification_report\n"
      ],
      "execution_count": 0,
      "outputs": []
    },
    {
      "cell_type": "code",
      "metadata": {
        "id": "lqf6jt5SCRC3",
        "colab_type": "code",
        "colab": {}
      },
      "source": [
        "def model_score(x_train, y_train, x_test, y_test, classes = 'binary'):\n",
        "    \n",
        "    #x_train, x_test, y_train, y_test = train_test_split(X, y, test_size=0.4, random_state=42)\n",
        "    model = DecisionTreeClassifier(random_state = 101)\n",
        "    #print(type(model))\n",
        "    model.fit(x_train,y_train)\n",
        "    \n",
        "    test_predictions = model.predict(x_test)\n",
        "    if classes == 'multi':\n",
        "        return f1_score(y_test, test_predictions, average = 'macro')\n",
        "    else:\n",
        "        return f1_score(y_test, test_predictions)\n",
        "\n",
        "def create_random(n_features):\n",
        "    n_chosen = random.randint(1,n_features-1)\n",
        "    features = [0]*n_features\n",
        "    for i in range(n_chosen):\n",
        "        feat = random.randint(0,n_features-1)\n",
        "        features[feat] = 1\n",
        "    #features = np.random.randint(2,size=n_features)\n",
        "    return features\n",
        "\n",
        "class Optimizer():\n",
        "\n",
        "    def __init__(self, X_train, y_train, X_test, y_test, retain=0.4, random_select=0.1, mutate_chance=0.6):\n",
        "        \n",
        "        self.X_train = X_train\n",
        "        self.y_train = y_train\n",
        "        self.X_test = X_test\n",
        "        self.y_test = y_test\n",
        "        self.mutate_chance = mutate_chance\n",
        "        self.random_select = random_select\n",
        "        self.retain = retain\n",
        "        self.graded = []\n",
        "\n",
        "    def create_population(self, count):\n",
        "        \n",
        "        pop = []\n",
        "        for _ in range(0, count):\n",
        "            n_features = self.X_train.shape[1]\n",
        "            feature_list = create_random(n_features)\n",
        "\n",
        "            pop.append(feature_list)\n",
        "\n",
        "        return pop\n",
        "    \n",
        "    def eval_pop(self, pop, classes ):\n",
        "        self.graded = []\n",
        "        \n",
        "        alpha = 0.6\n",
        "        for feature_array in pop:\n",
        "            n = len(feature_array)\n",
        "            feature_index = [i for i in range(len(feature_array)) if feature_array[i] > 0]\n",
        "            #print(feature_index)\n",
        "            f1_score = model_score(self.X_train[:,feature_index], self.y_train, self.X_test[:,feature_index], self.y_test, classes)\n",
        "            fitness_score = alpha*f1_score + (1-alpha)*(n-len(feature_index))/n\n",
        "            #print([fitness_score,f1_score, len(feature_index)])\n",
        "            self.graded.append([fitness_score,f1_score, feature_array])\n",
        "    \n",
        "    def breed(self, mother, father):\n",
        "        children = []\n",
        "        for _ in range(2):\n",
        "\n",
        "            child = [None]*len(mother)\n",
        "            \n",
        "            for param in range(len(mother)):\n",
        "                child[param] = random.choice([mother[param], father[param]])\n",
        "\n",
        "            if self.mutate_chance > random.random():\n",
        "                child = self.mutate(child)\n",
        "\n",
        "            children.append(child)\n",
        "\n",
        "        return children\n",
        "\n",
        "    def mutate(self, child):\n",
        "        \n",
        "        no_of_mutations = random.randint(0,len(child)-1)\n",
        "        for i in range(no_of_mutations):\n",
        "            mutation = random.randint(0,len(child)-1)\n",
        "            child[mutation] = 0 if child[mutation]==1 else 1\n",
        "\n",
        "        return child\n",
        "\n",
        "    def evolve(self, pop):\n",
        "\n",
        "        self.graded = [x[2] for x in sorted(self.graded, key=lambda x: x[0], reverse=True)]\n",
        "\n",
        "        retain_length = int(len(self.graded)*self.retain)\n",
        "\n",
        "        parents = self.graded[:retain_length]\n",
        "\n",
        "        for individual in self.graded[retain_length:]:\n",
        "            if self.random_select > random.random():\n",
        "                parents.append(individual)\n",
        "\n",
        "        parents_length = len(parents)\n",
        "        desired_length = len(pop) - parents_length\n",
        "        children = []\n",
        "\n",
        "        while len(children) < desired_length:\n",
        "\n",
        "            male = random.randint(0, parents_length-1)\n",
        "            female = random.randint(0, parents_length-1)\n",
        "\n",
        "            if male != female:\n",
        "                male = parents[male]\n",
        "                female = parents[female]\n",
        "\n",
        "                babies = self.breed(male, female)\n",
        "\n",
        "                for baby in babies:\n",
        "\n",
        "                    if len(children) < desired_length and baby!= male and baby != female:\n",
        "                        children.append(baby)\n",
        "\n",
        "        parents.extend(children)\n",
        "\n",
        "        return parents\n",
        "\n",
        "\n",
        "\n",
        "def generate(generations, population, X_train, y_train, X_test, y_test, classes = 'binary'):\n",
        "    \n",
        "    optimizer = Optimizer(X_train, y_train, X_test, y_test)\n",
        "    pop = optimizer.create_population(population)\n",
        "\n",
        "    for i in range(generations):\n",
        "        print(\"***Doing generation %d of %d***\" %(i + 1, generations))\n",
        "        optimizer.eval_pop(pop, classes)\n",
        "\n",
        "        if i != generations - 1:\n",
        "            pop = optimizer.evolve(pop)\n",
        "            \n",
        "    #print(optimizer.graded)\n",
        "    final = [[x[1],x[2]] for x in sorted(optimizer.graded, key=lambda x: x[0], reverse=True)]\n",
        "    final_pop = [[x[1],np.count_nonzero(x[2])] for x in sorted(optimizer.graded, key=lambda x: x[0], reverse=True)]\n",
        "    print(final_pop)\n",
        "    return final"
      ],
      "execution_count": 0,
      "outputs": []
    },
    {
      "cell_type": "code",
      "metadata": {
        "id": "_gsXHxmaCa-I",
        "colab_type": "code",
        "colab": {}
      },
      "source": [
        "from sklearn.model_selection import train_test_split\n",
        "from sklearn.svm import SVC\n",
        "from sklearn.metrics import accuracy_score\n",
        "from sklearn.metrics import confusion_matrix\n",
        "import numpy as np"
      ],
      "execution_count": 0,
      "outputs": []
    },
    {
      "cell_type": "code",
      "metadata": {
        "id": "ZzhmEa5cWGdH",
        "colab_type": "code",
        "outputId": "dba0b9f0-84c4-4df3-9d56-723081098bc8",
        "colab": {
          "base_uri": "https://localhost:8080/",
          "height": 122
        }
      },
      "source": [
        "from google.colab import drive\n",
        "drive.mount('/content/drive')"
      ],
      "execution_count": 0,
      "outputs": [
        {
          "output_type": "stream",
          "text": [
            "Go to this URL in a browser: https://accounts.google.com/o/oauth2/auth?client_id=947318989803-6bn6qk8qdgf4n4g3pfee6491hc0brc4i.apps.googleusercontent.com&redirect_uri=urn%3aietf%3awg%3aoauth%3a2.0%3aoob&response_type=code&scope=email%20https%3a%2f%2fwww.googleapis.com%2fauth%2fdocs.test%20https%3a%2f%2fwww.googleapis.com%2fauth%2fdrive%20https%3a%2f%2fwww.googleapis.com%2fauth%2fdrive.photos.readonly%20https%3a%2f%2fwww.googleapis.com%2fauth%2fpeopleapi.readonly\n",
            "\n",
            "Enter your authorization code:\n",
            "··········\n",
            "Mounted at /content/drive\n"
          ],
          "name": "stdout"
        }
      ]
    },
    {
      "cell_type": "code",
      "metadata": {
        "id": "vCwoC9HkLu1V",
        "colab_type": "code",
        "colab": {}
      },
      "source": [
        "X_train=np.load(\"/content/drive/My Drive/Major2/X_train.npy\")\n",
        "y_train=np.load(\"/content/drive/My Drive/Major2/y_train.npy\")\n",
        "X_test=np.load(\"/content/drive/My Drive/Major2/X_test.npy\")\n",
        "y_test=np.load(\"/content/drive/My Drive/Major2/y_test.npy\")"
      ],
      "execution_count": 0,
      "outputs": []
    },
    {
      "cell_type": "code",
      "metadata": {
        "id": "gycc7NBd45DK",
        "colab_type": "code",
        "outputId": "c691245d-873d-4787-d86a-a73477cde203",
        "colab": {
          "base_uri": "https://localhost:8080/",
          "height": 34
        }
      },
      "source": [
        "X_test.shape"
      ],
      "execution_count": 0,
      "outputs": [
        {
          "output_type": "execute_result",
          "data": {
            "text/plain": [
              "(360, 208, 176)"
            ]
          },
          "metadata": {
            "tags": []
          },
          "execution_count": 7
        }
      ]
    },
    {
      "cell_type": "code",
      "metadata": {
        "id": "Ae3o6umTFYSk",
        "colab_type": "code",
        "colab": {}
      },
      "source": [
        "X_train = X_train.reshape(840, 208*176)\n",
        "X_test = X_test.reshape(360, 208*176)\n"
      ],
      "execution_count": 0,
      "outputs": []
    },
    {
      "cell_type": "code",
      "metadata": {
        "id": "oaliBMs7FcJo",
        "colab_type": "code",
        "outputId": "607ed53c-4858-44c9-ec60-a41586eec32a",
        "colab": {
          "base_uri": "https://localhost:8080/",
          "height": 1000
        }
      },
      "source": [
        "final = generate(100,30, X_train, y_train, X_test, y_test, classes='multi')\n",
        "res = final[0][1]\n",
        "res_index = [i for i in range(len(res)) if res[i] > 0]"
      ],
      "execution_count": 0,
      "outputs": [
        {
          "output_type": "stream",
          "text": [
            "***Doing generation 1 of 100***\n",
            "***Doing generation 2 of 100***\n",
            "***Doing generation 3 of 100***\n",
            "***Doing generation 4 of 100***\n",
            "***Doing generation 5 of 100***\n",
            "***Doing generation 6 of 100***\n",
            "***Doing generation 7 of 100***\n",
            "***Doing generation 8 of 100***\n",
            "***Doing generation 9 of 100***\n",
            "***Doing generation 10 of 100***\n",
            "***Doing generation 11 of 100***\n",
            "***Doing generation 12 of 100***\n",
            "***Doing generation 13 of 100***\n",
            "***Doing generation 14 of 100***\n",
            "***Doing generation 15 of 100***\n",
            "***Doing generation 16 of 100***\n",
            "***Doing generation 17 of 100***\n",
            "***Doing generation 18 of 100***\n",
            "***Doing generation 19 of 100***\n",
            "***Doing generation 20 of 100***\n",
            "***Doing generation 21 of 100***\n",
            "***Doing generation 22 of 100***\n",
            "***Doing generation 23 of 100***\n",
            "***Doing generation 24 of 100***\n",
            "***Doing generation 25 of 100***\n",
            "***Doing generation 26 of 100***\n",
            "***Doing generation 27 of 100***\n",
            "***Doing generation 28 of 100***\n",
            "***Doing generation 29 of 100***\n",
            "***Doing generation 30 of 100***\n",
            "***Doing generation 31 of 100***\n",
            "***Doing generation 32 of 100***\n",
            "***Doing generation 33 of 100***\n",
            "***Doing generation 34 of 100***\n",
            "***Doing generation 35 of 100***\n",
            "***Doing generation 36 of 100***\n",
            "***Doing generation 37 of 100***\n",
            "***Doing generation 38 of 100***\n",
            "***Doing generation 39 of 100***\n",
            "***Doing generation 40 of 100***\n",
            "***Doing generation 41 of 100***\n",
            "***Doing generation 42 of 100***\n",
            "***Doing generation 43 of 100***\n",
            "***Doing generation 44 of 100***\n",
            "***Doing generation 45 of 100***\n",
            "***Doing generation 46 of 100***\n",
            "***Doing generation 47 of 100***\n",
            "***Doing generation 48 of 100***\n",
            "***Doing generation 49 of 100***\n",
            "***Doing generation 50 of 100***\n",
            "***Doing generation 51 of 100***\n",
            "***Doing generation 52 of 100***\n",
            "***Doing generation 53 of 100***\n",
            "***Doing generation 54 of 100***\n",
            "***Doing generation 55 of 100***\n",
            "***Doing generation 56 of 100***\n",
            "***Doing generation 57 of 100***\n",
            "***Doing generation 58 of 100***\n",
            "***Doing generation 59 of 100***\n",
            "***Doing generation 60 of 100***\n",
            "***Doing generation 61 of 100***\n",
            "***Doing generation 62 of 100***\n",
            "***Doing generation 63 of 100***\n",
            "***Doing generation 64 of 100***\n",
            "***Doing generation 65 of 100***\n",
            "***Doing generation 66 of 100***\n",
            "***Doing generation 67 of 100***\n",
            "***Doing generation 68 of 100***\n",
            "***Doing generation 69 of 100***\n",
            "***Doing generation 70 of 100***\n",
            "***Doing generation 71 of 100***\n",
            "***Doing generation 72 of 100***\n",
            "***Doing generation 73 of 100***\n",
            "***Doing generation 74 of 100***\n",
            "***Doing generation 75 of 100***\n",
            "***Doing generation 76 of 100***\n",
            "***Doing generation 77 of 100***\n",
            "***Doing generation 78 of 100***\n",
            "***Doing generation 79 of 100***\n",
            "***Doing generation 80 of 100***\n",
            "***Doing generation 81 of 100***\n",
            "***Doing generation 82 of 100***\n",
            "***Doing generation 83 of 100***\n",
            "***Doing generation 84 of 100***\n",
            "***Doing generation 85 of 100***\n",
            "***Doing generation 86 of 100***\n",
            "***Doing generation 87 of 100***\n",
            "***Doing generation 88 of 100***\n",
            "***Doing generation 89 of 100***\n",
            "***Doing generation 90 of 100***\n",
            "***Doing generation 91 of 100***\n",
            "***Doing generation 92 of 100***\n",
            "***Doing generation 93 of 100***\n",
            "***Doing generation 94 of 100***\n",
            "***Doing generation 95 of 100***\n",
            "***Doing generation 96 of 100***\n",
            "***Doing generation 97 of 100***\n",
            "***Doing generation 98 of 100***\n",
            "***Doing generation 99 of 100***\n",
            "***Doing generation 100 of 100***\n",
            "[[0.9043623026313802, 7090], [0.9000600039607664, 7111], [0.8972191651439505, 7072], [0.8925963559330107, 7090], [0.8922134566119619, 7084], [0.8924307179058875, 7097], [0.891548957912007, 7079], [0.8916712386849827, 7116], [0.891975744653221, 7136], [0.8897499816039143, 7113], [0.9008164425267879, 7401], [0.887670723298152, 7089], [0.8868342063417753, 7072], [0.8789225515838419, 7112], [0.8754566572890023, 7250], [0.8674585250442396, 7093], [0.8659396216823003, 7076], [0.8622595921660647, 7106], [0.8188892707641685, 7956], [0.8700016572699696, 9563], [0.8649362268160894, 9612], [0.8516862646483785, 10927], [0.8065327407725551, 11977], [0.8327145921834738, 13960], [0.8269338043984206, 14235], [0.8539535798583794, 15402], [0.8587922923535573, 15540], [0.8581400647577118, 16519], [0.8498409647594377, 16517], [0.7955930402570198, 15521]]\n"
          ],
          "name": "stdout"
        }
      ]
    },
    {
      "cell_type": "code",
      "metadata": {
        "id": "YL-UYIwYWm4B",
        "colab_type": "code",
        "outputId": "d006ea06-e12b-4dc0-f07b-75cfbc2c7875",
        "colab": {
          "base_uri": "https://localhost:8080/",
          "height": 34
        }
      },
      "source": [
        "len(res_index)"
      ],
      "execution_count": 0,
      "outputs": [
        {
          "output_type": "execute_result",
          "data": {
            "text/plain": [
              "7090"
            ]
          },
          "metadata": {
            "tags": []
          },
          "execution_count": 10
        }
      ]
    },
    {
      "cell_type": "code",
      "metadata": {
        "id": "IT08ExBPjs4l",
        "colab_type": "code",
        "colab": {}
      },
      "source": [
        "X_train=X_train[:,res_index]\n",
        "X_test=X_test[:,res_index]"
      ],
      "execution_count": 0,
      "outputs": []
    },
    {
      "cell_type": "code",
      "metadata": {
        "id": "06-SOJeYj9qw",
        "colab_type": "code",
        "outputId": "ec3e5b14-1102-4820-f964-76dc3ae4e108",
        "colab": {
          "base_uri": "https://localhost:8080/",
          "height": 34
        }
      },
      "source": [
        "X_test.shape"
      ],
      "execution_count": 0,
      "outputs": [
        {
          "output_type": "execute_result",
          "data": {
            "text/plain": [
              "(360, 7090)"
            ]
          },
          "metadata": {
            "tags": []
          },
          "execution_count": 12
        }
      ]
    },
    {
      "cell_type": "code",
      "metadata": {
        "id": "9o5qZUTFjY7o",
        "colab_type": "code",
        "outputId": "a006df58-8288-4db1-d6a8-d69511806968",
        "colab": {
          "base_uri": "https://localhost:8080/",
          "height": 34
        }
      },
      "source": [
        "from sklearn.neighbors import KNeighborsClassifier\n",
        "neigh = KNeighborsClassifier(n_neighbors=3)\n",
        "neigh.fit(X_train, y_train)\n",
        "print(neigh.score(X_test,y_test))\n",
        "y_pred=neigh.predict(X_test)"
      ],
      "execution_count": 0,
      "outputs": [
        {
          "output_type": "stream",
          "text": [
            "0.9666666666666667\n"
          ],
          "name": "stdout"
        }
      ]
    },
    {
      "cell_type": "code",
      "metadata": {
        "id": "LtNCxFjBkGDh",
        "colab_type": "code",
        "outputId": "0b586239-ad57-423a-da08-a4230193e529",
        "colab": {
          "base_uri": "https://localhost:8080/",
          "height": 34
        }
      },
      "source": [
        "classifier = SVC()\n",
        "classifier.fit(X_train, y_train)\n",
        "\n",
        "y_pred = classifier.predict(X_test)\n",
        "##accuracy_score(y_test, y_pred)\n",
        "classifier.score(X_test,y_test)"
      ],
      "execution_count": 0,
      "outputs": [
        {
          "output_type": "execute_result",
          "data": {
            "text/plain": [
              "0.825"
            ]
          },
          "metadata": {
            "tags": []
          },
          "execution_count": 14
        }
      ]
    },
    {
      "cell_type": "code",
      "metadata": {
        "id": "0ZMPUh-KR8uJ",
        "colab_type": "code",
        "outputId": "9ae208b6-8975-4562-e6b0-140801528c04",
        "colab": {
          "base_uri": "https://localhost:8080/",
          "height": 34
        }
      },
      "source": [
        "y_train.shape"
      ],
      "execution_count": 0,
      "outputs": [
        {
          "output_type": "execute_result",
          "data": {
            "text/plain": [
              "(840,)"
            ]
          },
          "metadata": {
            "tags": []
          },
          "execution_count": 17
        }
      ]
    },
    {
      "cell_type": "code",
      "metadata": {
        "id": "tjsXX3OS6o90",
        "colab_type": "code",
        "colab": {}
      },
      "source": [
        "np.save(\"X_train_GA.npy\",X_train)\n",
        "np.save(\"X_test_GA.npy\",X_test)\n",
        "np.save(\"y_train_GA.npy\",y_train)\n",
        "np.save(\"y_test_GA.npy\",y_test)"
      ],
      "execution_count": 0,
      "outputs": []
    },
    {
      "cell_type": "code",
      "metadata": {
        "id": "lF3r1kOj67vz",
        "colab_type": "code",
        "colab": {}
      },
      "source": [
        "from google.colab import files\n",
        "files.download('X_train_GA.npy')\n",
        "files.download('X_test_GA.npy')\n",
        "files.download('y_train_GA.npy')\n",
        "files.download('y_test_GA.npy')"
      ],
      "execution_count": 0,
      "outputs": []
    },
    {
      "cell_type": "code",
      "metadata": {
        "id": "L79en3nU7WDS",
        "colab_type": "code",
        "colab": {}
      },
      "source": [
        ""
      ],
      "execution_count": 0,
      "outputs": []
    }
  ]
}