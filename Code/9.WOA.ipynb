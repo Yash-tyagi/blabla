{
  "nbformat": 4,
  "nbformat_minor": 0,
  "metadata": {
    "colab": {
      "name": "WOA.ipynb",
      "provenance": [],
      "collapsed_sections": []
    },
    "kernelspec": {
      "name": "python3",
      "display_name": "Python 3"
    },
    "accelerator": "GPU"
  },
  "cells": [
    {
      "cell_type": "code",
      "metadata": {
        "id": "vuTnmQO5oMbR",
        "colab_type": "code",
        "colab": {}
      },
      "source": [
        "import random\n",
        "import math\n",
        "import numpy as np\n",
        "from sklearn.tree import DecisionTreeClassifier\n",
        "from sklearn.preprocessing import StandardScaler, MinMaxScaler\n",
        "from sklearn.metrics import accuracy_score, f1_score,confusion_matrix,classification_report"
      ],
      "execution_count": 0,
      "outputs": []
    },
    {
      "cell_type": "code",
      "metadata": {
        "id": "3IsKnciEoYnb",
        "colab_type": "code",
        "colab": {}
      },
      "source": [
        "def model_score(x_train, y_train, x_test, y_test, classes = 'multi'):\n",
        "    \n",
        "    #x_train, x_test, y_train, y_test = train_test_split(X, y, test_size=0.4, random_state=42)\n",
        "    model = DecisionTreeClassifier(random_state = 101)\n",
        "    #print(type(model))\n",
        "    model.fit(x_train,y_train)\n",
        "    \n",
        "    test_predictions = model.predict(x_test)\n",
        "    if classes == 'multi':\n",
        "        return f1_score(y_test, test_predictions, average = 'macro')\n",
        "    else:\n",
        "        return f1_score(y_test, test_predictions)"
      ],
      "execution_count": 0,
      "outputs": []
    },
    {
      "cell_type": "code",
      "metadata": {
        "id": "cFF39qj-ofsJ",
        "colab_type": "code",
        "colab": {}
      },
      "source": [
        "def obj_func(pos_array,X_train,y_train,X_test, y_test, classes):\n",
        "    alpha = 0.6\n",
        "    feature_array = np.zeros_like(pos_array)\n",
        "    for i in range(len(pos_array)):\n",
        "        #print(1/(1+math.exp(-pos_array[i])))\n",
        "        feature_array[i] = 1/(1+math.exp(-pos_array[i]))\n",
        "    feature_array = [round(i) for i in feature_array]\n",
        "    feature_index = [i for i in range(len(feature_array)) if feature_array[i] > 0]\n",
        "    #print(len(feature_index))\n",
        "    if (len(feature_index)==0):\n",
        "        return [0,0]\n",
        "    \n",
        "    f1_score = model_score(X_train, y_train, X_test, y_test, classes = classes)\n",
        "    fitness_score = alpha*f1_score + (1-alpha)*(X_train.shape[1]-len(feature_index))/X_train.shape[1]\n",
        "    return [fitness_score,f1_score]\n"
      ],
      "execution_count": 0,
      "outputs": []
    },
    {
      "cell_type": "code",
      "metadata": {
        "id": "ATC_0LWzqDlY",
        "colab_type": "code",
        "colab": {}
      },
      "source": [
        "class solution:\n",
        "    def __init__(self):\n",
        "        self.best = 0\n",
        "        self.bestIndividual=[]\n",
        "        self.convergence = []\n",
        "        self.optimizer=\"\"\n",
        "        self.objfname=\"\""
      ],
      "execution_count": 0,
      "outputs": []
    },
    {
      "cell_type": "code",
      "metadata": {
        "id": "aYBb9UxDHp9N",
        "colab_type": "code",
        "colab": {}
      },
      "source": [
        "def WOA(X_train, y_train, X_test, y_test, objf = obj_func, classes = 'multi', lb = -100, ub = 100,\n",
        "        SearchAgents_no = 30, Max_iter = 50):\n",
        "\n",
        "    dim = X_train.shape[1]        \n",
        "    Leader_pos=np.zeros(dim)\n",
        "    Leader_score=0\n",
        "    Leader_f1 = 0  \n",
        " \n",
        "    Positions = np.zeros((SearchAgents_no, dim))\n",
        "    for i in range(dim):\n",
        "        Positions[:, i] = np.random.uniform(0,1,SearchAgents_no) *(ub-lb)+lb\n",
        "    \n",
        "    convergence_curve=np.zeros(Max_iter)\n",
        "    s=solution()\n",
        "    \n",
        "    t=0 \n",
        "    while t<Max_iter:\n",
        "        for i in range(0,SearchAgents_no):\n",
        "            for j in range(dim):        \n",
        "                Positions[i,j]=np.clip(Positions[i,j], lb, ub)\n",
        "            \n",
        "            fitness,f1score=objf(Positions[i,:],X_train,y_train,X_test,y_test, classes = classes)\n",
        "     \n",
        "            if fitness>Leader_score: \n",
        "                Leader_score=fitness; \n",
        "                Leader_pos=Positions[i,:].copy()\n",
        "                Leader_f1= f1score  \n",
        "        \n",
        "        a=2-t*((2)/Max_iter); \n",
        "\n",
        "        for i in range(0,SearchAgents_no):\n",
        "            r1=random.random() \n",
        "            r2=random.random() \n",
        "            \n",
        "            A=2*a*r1-a                                            \n",
        "            C=2*r2                                                \n",
        "            \n",
        "            b=1            \n",
        "            l=random.randint(-1,1)                            \n",
        "            \n",
        "            p = random.random() \n",
        "\n",
        "            if p<0.5:\n",
        "                \n",
        "                if abs(A)>=1:\n",
        "                    rand_leader_index = math.floor(SearchAgents_no*random.random());\n",
        "                    X_rand = Positions[rand_leader_index, :]\n",
        "                    D_random= abs(C*X_rand-Positions[i,:])\n",
        "                    Positions[i,:]=X_rand-A*D_random      \n",
        "                    \n",
        "                elif abs(A)<1:  \n",
        "                    D_Leader=abs(C*Leader_pos-Positions[i,:])\n",
        "                    Positions[i,:]=Leader_pos-A*D_Leader    \n",
        "                        \n",
        "            elif p>=0.5:  \n",
        "                distance2Leader=abs(Leader_pos-Positions[i,:])                    \n",
        "                Positions[i,:]=distance2Leader*math.exp(b*l)*math.cos(l*2*math.pi)+Leader_pos\n",
        "                \n",
        "                    \n",
        "        convergence_curve[t]=Leader_score\n",
        "        t=t+1\n",
        "    \n",
        "    feature_array = np.zeros_like(Leader_pos)\n",
        "    for i in range(len(Leader_pos)):\n",
        "        feature_array[i] = 1/(1+math.exp(-Leader_pos[i]))\n",
        "    feature_array = [round(i) for i in feature_array]\n",
        "    feature_index = [i for i in range(len(feature_array)) if feature_array[i] > 0]\n",
        "    \n",
        "    s.convergence=convergence_curve\n",
        "    s.optimizer=\"WOA\"   \n",
        "    s.objfname=objf.__name__\n",
        "    s.bestfitness = Leader_score\n",
        "    s.bestf1 = Leader_f1\n",
        "    s.bestIndividual = feature_index\n",
        "    return s"
      ],
      "execution_count": 0,
      "outputs": []
    },
    {
      "cell_type": "code",
      "metadata": {
        "id": "RSqWHxHnpNWS",
        "colab_type": "code",
        "outputId": "b04b6898-e022-4238-e7d8-2e7c9426908e",
        "colab": {
          "base_uri": "https://localhost:8080/",
          "height": 34
        }
      },
      "source": [
        "from google.colab import drive\n",
        "drive.mount('/content/drive')"
      ],
      "execution_count": 0,
      "outputs": [
        {
          "output_type": "stream",
          "text": [
            "Drive already mounted at /content/drive; to attempt to forcibly remount, call drive.mount(\"/content/drive\", force_remount=True).\n"
          ],
          "name": "stdout"
        }
      ]
    },
    {
      "cell_type": "code",
      "metadata": {
        "id": "UWFlmOUypRgW",
        "colab_type": "code",
        "colab": {}
      },
      "source": [
        "X_train=np.load(\"/content/drive/My Drive/Major2/X_train.npy\")\n",
        "y_train=np.load(\"/content/drive/My Drive/Major2/y_train.npy\")\n",
        "X_test=np.load(\"/content/drive/My Drive/Major2/X_test.npy\")\n",
        "y_test=np.load(\"/content/drive/My Drive/Major2/y_test.npy\")"
      ],
      "execution_count": 0,
      "outputs": []
    },
    {
      "cell_type": "code",
      "metadata": {
        "id": "_fSr8l_apgDt",
        "colab_type": "code",
        "colab": {}
      },
      "source": [
        "X_train = X_train.reshape(840, 208*176)\n",
        "X_test = X_test.reshape(360, 208*176)"
      ],
      "execution_count": 0,
      "outputs": []
    },
    {
      "cell_type": "code",
      "metadata": {
        "id": "Q13TnGDppnqi",
        "colab_type": "code",
        "outputId": "98c12f46-a46d-4067-a3dd-80d906ca85de",
        "colab": {
          "base_uri": "https://localhost:8080/",
          "height": 34
        }
      },
      "source": [
        "X_train.shape"
      ],
      "execution_count": 0,
      "outputs": [
        {
          "output_type": "execute_result",
          "data": {
            "text/plain": [
              "(840, 36608)"
            ]
          },
          "metadata": {
            "tags": []
          },
          "execution_count": 28
        }
      ]
    },
    {
      "cell_type": "code",
      "metadata": {
        "id": "o0vcL--xppk5",
        "colab_type": "code",
        "colab": {}
      },
      "source": [
        "sol = WOA(X_train=X_train, y_train=y_train, X_test=X_test, y_test=y_test,Max_iter=50)"
      ],
      "execution_count": 0,
      "outputs": []
    },
    {
      "cell_type": "code",
      "metadata": {
        "id": "qINBFbXup9Dp",
        "colab_type": "code",
        "outputId": "6465eac1-ed35-4a76-ade4-9fcdd99dbacb",
        "colab": {
          "base_uri": "https://localhost:8080/",
          "height": 54
        }
      },
      "source": [
        "print(sol.bestIndividual)"
      ],
      "execution_count": 0,
      "outputs": [
        {
          "output_type": "stream",
          "text": [
            "[47, 147, 198, 237, 291, 315, 368, 371, 372, 379, 427, 610, 895, 910, 925, 928, 953, 975, 1007, 1037, 1050, 1060, 1073, 1115, 1165, 1215, 1232, 1289, 1360, 1390, 1432, 1433, 1445, 1532, 1662, 1696, 1700, 1796, 1809, 1826, 1847, 1872, 1939, 1956, 2011, 2160, 2162, 2173, 2315, 2361, 2622, 2820, 2919, 2929, 3010, 3018, 3043, 3079, 3085, 3135, 3169, 3336, 3383, 3390, 3571, 3610, 3623, 3679, 3726, 3846, 3988, 3992, 4075, 4086, 4214, 4413, 4414, 4678, 4819, 4853, 4855, 4864, 4930, 5193, 5240, 5289, 5445, 5704, 5798, 5931, 5935, 5942, 5986, 6037, 6050, 6089, 6092, 6280, 6287, 6300, 6488, 6541, 6570, 6575, 6594, 6608, 6623, 6634, 6653, 6670, 6720, 6768, 6839, 6851, 6870, 7185, 7206, 7352, 7493, 7497, 7500, 7513, 7520, 7548, 7654, 7699, 7727, 7856, 7882, 7920, 7935, 7949, 8124, 8140, 8261, 8272, 8354, 8414, 8444, 8478, 8507, 8578, 8722, 8738, 8744, 8754, 8931, 8939, 9011, 9031, 9118, 9152, 9185, 9255, 9286, 9370, 9380, 9455, 9487, 9525, 9555, 9585, 9601, 9753, 9759, 9940, 10051, 10150, 10165, 10192, 10227, 10234, 10256, 10275, 10389, 10398, 10401, 10641, 10830, 10837, 10842, 10899, 10900, 10952, 10955, 10973, 11008, 11053, 11231, 11348, 11358, 11453, 11469, 11479, 11514, 11515, 11547, 11818, 11819, 11919, 12034, 12102, 12167, 12193, 12225, 12280, 12430, 12432, 12455, 12567, 12638, 12686, 12828, 12947, 13001, 13056, 13068, 13090, 13091, 13160, 13214, 13241, 13297, 13318, 13379, 13457, 13568, 13618, 13619, 13625, 13645, 13720, 13937, 13961, 13963, 14073, 14230, 14240, 14266, 14300, 14395, 14469, 14716, 14848, 14936, 15075, 15330, 15368, 15451, 15462, 15557, 15566, 15644, 15694, 15722, 15744, 15993, 16006, 16007, 16263, 16269, 16282, 16309, 16361, 16380, 16417, 16574, 16763, 16863, 16890, 16928, 17052, 17097, 17238, 17388, 17576, 17604, 17648, 17717, 17859, 17913, 17915, 17946, 17997, 18042, 18076, 18121, 18158, 18198, 18291, 18349, 18407, 18418, 18431, 18633, 18695, 18813, 18876, 19146, 19195, 19295, 19362, 19364, 19376, 19389, 19436, 19489, 19529, 19543, 19583, 19691, 19693, 19752, 19759, 19777, 19823, 19884, 19915, 19945, 20005, 20009, 20090, 20097, 20108, 20109, 20129, 20235, 20273, 20307, 20356, 20547, 20624, 20687, 20737, 20740, 20743, 20850, 20874, 20916, 21094, 21158, 21175, 21184, 21206, 21264, 21302, 21340, 21350, 21422, 21440, 21442, 21489, 21518, 21524, 21595, 21622, 21729, 21740, 21759, 21844, 21962, 21985, 22111, 22363, 22394, 22484, 22499, 22635, 22675, 22844, 23022, 23037, 23063, 23170, 23175, 23308, 23371, 23388, 23415, 23795, 23799, 23811, 23901, 24007, 24030, 24076, 24094, 24102, 24138, 24171, 24178, 24229, 24372, 24441, 24462, 24485, 24493, 24529, 24678, 24685, 24769, 24837, 24844, 25121, 25176, 25223, 25555, 25564, 25655, 25676, 25795, 25815, 25996, 26069, 26195, 26199, 26285, 26303, 26407, 26427, 26491, 26492, 26692, 26832, 26837, 26875, 26882, 27175, 27320, 27366, 27400, 27475, 27578, 27595, 27599, 27604, 27665, 27719, 27811, 27890, 27931, 27934, 28039, 28075, 28115, 28143, 28168, 28187, 28397, 28427, 28439, 28447, 28617, 28663, 28670, 28723, 28724, 28771, 28775, 28811, 28814, 28919, 29019, 29054, 29132, 29332, 29372, 29434, 29500, 29509, 29519, 29676, 29723, 29752, 29829, 29887, 29928, 29981, 30005, 30062, 30137, 30165, 30199, 30207, 30287, 30418, 30478, 30496, 30524, 30579, 30630, 30688, 30689, 30870, 30890, 30928, 31346, 31415, 31496, 31521, 31666, 31708, 31865, 32022, 32079, 32136, 32358, 32554, 32591, 32632, 32653, 32729, 32761, 32945, 33097, 33106, 33272, 33295, 33400, 33505, 33525, 33618, 33637, 33842, 33850, 33921, 33936, 34062, 34155, 34179, 34255, 34331, 34456, 34499, 34544, 34552, 34565, 34590, 34597, 34630, 34647, 34670, 34682, 34697, 34799, 34812, 34823, 34885, 34963, 35018, 35023, 35042, 35053, 35240, 35502, 35795, 35957, 35959, 35978, 36003, 36196, 36461, 36462, 36469, 36504, 36573, 36600]\n"
          ],
          "name": "stdout"
        }
      ]
    },
    {
      "cell_type": "code",
      "metadata": {
        "id": "0baVW7_oYMst",
        "colab_type": "code",
        "colab": {}
      },
      "source": [
        "indices=sol.bestIndividual"
      ],
      "execution_count": 0,
      "outputs": []
    },
    {
      "cell_type": "code",
      "metadata": {
        "id": "ZrfVbNaVXu2_",
        "colab_type": "code",
        "outputId": "c90f3af2-d7ea-4f2f-e488-805f1deab018",
        "colab": {
          "base_uri": "https://localhost:8080/",
          "height": 34
        }
      },
      "source": [
        "print(len(sol.bestIndividual))"
      ],
      "execution_count": 0,
      "outputs": [
        {
          "output_type": "stream",
          "text": [
            "567\n"
          ],
          "name": "stdout"
        }
      ]
    },
    {
      "cell_type": "code",
      "metadata": {
        "id": "e49p_0RZX_ey",
        "colab_type": "code",
        "colab": {}
      },
      "source": [
        "X_train_WOA=X_train[:,indices]\n",
        "X_test_WOA=X_test[:,indices]"
      ],
      "execution_count": 0,
      "outputs": []
    },
    {
      "cell_type": "code",
      "metadata": {
        "id": "LrpCvjY0YUjW",
        "colab_type": "code",
        "outputId": "006e203e-30bc-43ec-eee2-46f7d5a6dd14",
        "colab": {
          "base_uri": "https://localhost:8080/",
          "height": 34
        }
      },
      "source": [
        "X_train_WOA.shape"
      ],
      "execution_count": 0,
      "outputs": [
        {
          "output_type": "execute_result",
          "data": {
            "text/plain": [
              "(840, 567)"
            ]
          },
          "metadata": {
            "tags": []
          },
          "execution_count": 40
        }
      ]
    },
    {
      "cell_type": "code",
      "metadata": {
        "id": "OVsmoPWsYVYY",
        "colab_type": "code",
        "colab": {}
      },
      "source": [
        "np.save(\"X_train_WOA.npy\",X_train_WOA)\n",
        "np.save(\"y_train_WOA.npy\",y_train)\n",
        "np.save(\"X_test_WOA.npy\",X_test_WOA)\n",
        "np.save(\"y_test_WOA.npy\",y_test)"
      ],
      "execution_count": 0,
      "outputs": []
    },
    {
      "cell_type": "code",
      "metadata": {
        "id": "6Z-Mn1T9Ynii",
        "colab_type": "code",
        "colab": {}
      },
      "source": [
        "from google.colab import files\n",
        "files.download('X_train_WOA.npy')\n",
        "files.download('X_test_WOA.npy')\n",
        "files.download('y_train_WOA.npy')\n",
        "files.download('y_test_WOA.npy')"
      ],
      "execution_count": 0,
      "outputs": []
    },
    {
      "cell_type": "code",
      "metadata": {
        "id": "FzKc74ELkurI",
        "colab_type": "code",
        "colab": {}
      },
      "source": [
        ""
      ],
      "execution_count": 0,
      "outputs": []
    }
  ]
}