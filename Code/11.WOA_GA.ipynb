{
  "nbformat": 4,
  "nbformat_minor": 0,
  "metadata": {
    "colab": {
      "name": "WOA+GA.ipynb",
      "provenance": [],
      "collapsed_sections": []
    },
    "kernelspec": {
      "name": "python3",
      "display_name": "Python 3"
    },
    "accelerator": "GPU"
  },
  "cells": [
    {
      "cell_type": "code",
      "metadata": {
        "id": "Fcv8vQHk5Pw5",
        "colab_type": "code",
        "colab": {}
      },
      "source": [
        "import random\n",
        "import math\n",
        "import numpy as np\n",
        "from sklearn.tree import DecisionTreeClassifier\n",
        "from sklearn.preprocessing import StandardScaler, MinMaxScaler\n",
        "from sklearn.metrics import accuracy_score, f1_score,confusion_matrix,classification_report"
      ],
      "execution_count": 0,
      "outputs": []
    },
    {
      "cell_type": "code",
      "metadata": {
        "id": "LHGMr-2044Pi",
        "colab_type": "code",
        "colab": {}
      },
      "source": [
        "class solution:\n",
        "    def __init__(self):\n",
        "        self.best = 0\n",
        "        self.bestIndividual=[]\n",
        "        self.convergence = []\n",
        "        self.optimizer=\"\"\n",
        "        self.objfname=\"\""
      ],
      "execution_count": 0,
      "outputs": []
    },
    {
      "cell_type": "code",
      "metadata": {
        "id": "UNeMXEvh5lsd",
        "colab_type": "code",
        "colab": {}
      },
      "source": [
        "def model_score(x_train, y_train, x_test, y_test, classes = 'multi'):\n",
        "    \n",
        "    #x_train, x_test, y_train, y_test = train_test_split(X, y, test_size=0.4, random_state=42)\n",
        "    model = DecisionTreeClassifier(random_state = 101)\n",
        "    #print(type(model))\n",
        "    model.fit(x_train,y_train)\n",
        "    \n",
        "    test_predictions = model.predict(x_test)\n",
        "    if classes == 'multi':\n",
        "        return f1_score(y_test, test_predictions, average = 'macro')\n",
        "    else:\n",
        "        return f1_score(y_test, test_predictions)"
      ],
      "execution_count": 0,
      "outputs": []
    },
    {
      "cell_type": "code",
      "metadata": {
        "id": "f3SFJojO5H_B",
        "colab_type": "code",
        "colab": {}
      },
      "source": [
        "def obj_func(pos_array,X_train,y_train,X_test, y_test, classes):\n",
        "    alpha = 0.6\n",
        "    feature_array = np.zeros_like(pos_array)\n",
        "    for i in range(len(pos_array)):\n",
        "        #print(1/(1+math.exp(-pos_array[i])))\n",
        "        feature_array[i] = 1/(1+math.exp(-pos_array[i]))\n",
        "    feature_array = [round(i) for i in feature_array]\n",
        "    feature_index = [i for i in range(len(feature_array)) if feature_array[i] > 0]\n",
        "    #print(len(feature_index))\n",
        "    if (len(feature_index)==0):\n",
        "        return [0,0]\n",
        "    \n",
        "    f1_score = model_score(X_train, y_train, X_test, y_test, classes = classes)\n",
        "    fitness_score = alpha*f1_score + (1-alpha)*(X_train.shape[1]-len(feature_index))/X_train.shape[1]\n",
        "    return [fitness_score,f1_score]\n",
        "\n",
        "def crossover(mother, father):\n",
        "\n",
        "    child = [None]*len(mother)\n",
        "    for param in range(len(mother)):\n",
        "        child[param] = random.choice([mother[param], father[param]])\n",
        "\n",
        "    return child\n"
      ],
      "execution_count": 0,
      "outputs": []
    },
    {
      "cell_type": "code",
      "metadata": {
        "id": "fIPt4pEa5KeZ",
        "colab_type": "code",
        "colab": {}
      },
      "source": [
        "def WOA(X_train, y_train, X_test, y_test, objf = obj_func, classes = 'multi', lb = -100, ub = 100,\n",
        "        SearchAgents_no = 30, Max_iter = 50):\n",
        "\n",
        "    dim = X_train.shape[1]        \n",
        "    Leader_pos=np.zeros(dim)\n",
        "    Leader_score=0\n",
        "    Leader_f1 = 0  \n",
        " \n",
        "    Positions = np.zeros((SearchAgents_no, dim))\n",
        "    for i in range(dim):\n",
        "        Positions[:, i] = np.random.uniform(0,1,SearchAgents_no) *(ub-lb)+lb\n",
        "  \n",
        "    convergence_curve=np.zeros(Max_iter)\n",
        " \n",
        "    s=solution()\n",
        "\n",
        "    t=0 \n",
        " \n",
        "    while t<Max_iter:\n",
        "        for i in range(0,SearchAgents_no):\n",
        "            for j in range(dim):        \n",
        "                Positions[i,j]=np.clip(Positions[i,j], lb, ub)\n",
        " \n",
        "            fitness,f1score=objf(Positions[i,:],X_train,y_train, X_test, y_test, classes = classes)\n",
        "       \n",
        "            if fitness>Leader_score: \n",
        "                Leader_score=fitness; \n",
        "                Leader_pos=Positions[i,:].copy()\n",
        "                Leader_f1= f1score  \n",
        "        \n",
        "        a=2-t*((2)/Max_iter);  \n",
        "   \n",
        "        for i in range(0,SearchAgents_no):\n",
        "            r1=random.random() \n",
        "            r2=random.random() \n",
        "            \n",
        "            A=2*a*r1-a                                            \n",
        "            C=2*r2                                                \n",
        "            \n",
        "            b=1            \n",
        "            l=random.randint(-1,1)                       \n",
        "            \n",
        "            p = random.random() \n",
        "\n",
        "            if p<0.5:\n",
        "                \n",
        "                if abs(A)>=1: \n",
        "                    rand_leader_index = math.floor(SearchAgents_no*random.random());\n",
        "                    X_rand = Positions[rand_leader_index, :]\n",
        "                    Positions[i,:]=crossover(X_rand, Positions[i,:])      \n",
        "                    \n",
        "                elif abs(A)<1:\n",
        "                    D_Leader=abs(C*Leader_pos-Positions[i,:])\n",
        "                    Positions[i,:]=crossover(Positions[i,:], D_Leader)    \n",
        "                        \n",
        "            elif p>=0.5:  \n",
        "              \n",
        "                distance2Leader=abs(Leader_pos-Positions[i,:])                    \n",
        "                Positions[i,:]=distance2Leader*math.exp(b*l)*math.cos(l*2*math.pi)+Leader_pos\n",
        "                \n",
        "                    \n",
        "        convergence_curve[t]=Leader_score\n",
        "    \n",
        "        t=t+1\n",
        "    \n",
        "    feature_array = np.zeros_like(Leader_pos)\n",
        "    for i in range(len(Leader_pos)):\n",
        "        feature_array[i] = 1/(1+math.exp(-Leader_pos[i]))\n",
        "    feature_array = [round(i) for i in feature_array]\n",
        "    feature_index = [i for i in range(len(feature_array)) if feature_array[i] > 0]\n",
        "    \n",
        "    s.convergence=convergence_curve\n",
        "    s.optimizer=\"WOA\"   \n",
        "    s.objfname=objf.__name__\n",
        "    s.bestfitness = Leader_score\n",
        "    s.bestf1 = Leader_f1\n",
        "    s.bestIndividual = feature_index\n",
        "    return s"
      ],
      "execution_count": 0,
      "outputs": []
    },
    {
      "cell_type": "code",
      "metadata": {
        "id": "Rg9NQT7G6UIg",
        "colab_type": "code",
        "outputId": "5f2463eb-365f-4763-8222-d2f1d07f7a83",
        "colab": {
          "base_uri": "https://localhost:8080/",
          "height": 34
        }
      },
      "source": [
        "from google.colab import drive\n",
        "drive.mount('/content/drive')"
      ],
      "execution_count": 0,
      "outputs": [
        {
          "output_type": "stream",
          "text": [
            "Drive already mounted at /content/drive; to attempt to forcibly remount, call drive.mount(\"/content/drive\", force_remount=True).\n"
          ],
          "name": "stdout"
        }
      ]
    },
    {
      "cell_type": "code",
      "metadata": {
        "id": "uQGvNXJe6XBy",
        "colab_type": "code",
        "colab": {}
      },
      "source": [
        "X_train=np.load(\"/content/drive/My Drive/Major2/X_train.npy\")\n",
        "y_train=np.load(\"/content/drive/My Drive/Major2/y_train.npy\")\n",
        "X_test=np.load(\"/content/drive/My Drive/Major2/X_test.npy\")\n",
        "y_test=np.load(\"/content/drive/My Drive/Major2/y_test.npy\")"
      ],
      "execution_count": 0,
      "outputs": []
    },
    {
      "cell_type": "code",
      "metadata": {
        "id": "qlx1qgbK6fsr",
        "colab_type": "code",
        "colab": {}
      },
      "source": [
        "X_train = X_train.reshape(840, 208*176)\n",
        "X_test = X_test.reshape(360, 208*176)"
      ],
      "execution_count": 0,
      "outputs": []
    },
    {
      "cell_type": "code",
      "metadata": {
        "id": "RegyENBT6mtj",
        "colab_type": "code",
        "outputId": "23f09096-3f85-4ad2-e8cd-575d64296892",
        "colab": {
          "base_uri": "https://localhost:8080/",
          "height": 34
        }
      },
      "source": [
        "X_train.shape"
      ],
      "execution_count": 0,
      "outputs": [
        {
          "output_type": "execute_result",
          "data": {
            "text/plain": [
              "(840, 36608)"
            ]
          },
          "metadata": {
            "tags": []
          },
          "execution_count": 11
        }
      ]
    },
    {
      "cell_type": "code",
      "metadata": {
        "id": "uqlWM0Y36pEF",
        "colab_type": "code",
        "colab": {}
      },
      "source": [
        "sol = WOA(X_train=X_train, y_train=y_train, X_test=X_test, y_test=y_test,Max_iter=50)"
      ],
      "execution_count": 0,
      "outputs": []
    },
    {
      "cell_type": "code",
      "metadata": {
        "id": "-nhfDGWS6vXx",
        "colab_type": "code",
        "outputId": "d4acc2c3-9479-446a-a09d-fd890dc68a6c",
        "colab": {
          "base_uri": "https://localhost:8080/",
          "height": 54
        }
      },
      "source": [
        "print(sol.bestIndividual)"
      ],
      "execution_count": 0,
      "outputs": [
        {
          "output_type": "stream",
          "text": [
            "[38, 57, 60, 67, 80, 174, 198, 315, 316, 330, 356, 370, 427, 462, 517, 559, 572, 788, 806, 831, 834, 870, 873, 894, 942, 944, 967, 977, 1038, 1062, 1089, 1109, 1140, 1162, 1189, 1198, 1224, 1243, 1249, 1259, 1268, 1303, 1342, 1349, 1354, 1359, 1403, 1408, 1443, 1513, 1519, 1526, 1556, 1579, 1581, 1688, 1690, 1756, 1811, 1821, 1851, 1907, 1957, 1965, 1974, 1979, 2006, 2012, 2066, 2071, 2147, 2188, 2207, 2248, 2258, 2262, 2282, 2285, 2299, 2410, 2412, 2454, 2455, 2531, 2579, 2618, 2620, 2630, 2640, 2660, 2675, 2683, 2686, 2712, 2756, 2876, 2877, 2881, 2893, 2905, 2925, 2959, 2995, 3004, 3015, 3022, 3051, 3087, 3098, 3201, 3224, 3260, 3274, 3284, 3328, 3354, 3375, 3437, 3446, 3456, 3503, 3586, 3599, 3611, 3619, 3630, 3673, 3688, 3713, 3725, 3738, 3774, 3794, 3799, 3862, 3927, 3979, 4038, 4040, 4057, 4109, 4142, 4189, 4224, 4237, 4250, 4286, 4298, 4382, 4444, 4491, 4496, 4505, 4520, 4543, 4565, 4610, 4682, 4748, 4824, 4903, 4920, 4923, 4926, 4931, 4937, 4987, 4993, 5006, 5010, 5124, 5151, 5208, 5251, 5276, 5311, 5321, 5322, 5378, 5406, 5411, 5456, 5463, 5482, 5542, 5555, 5587, 5604, 5629, 5646, 5652, 5675, 5677, 5694, 5704, 5709, 5728, 5740, 5755, 5792, 5806, 5832, 5925, 5945, 5953, 5958, 5964, 6090, 6122, 6125, 6181, 6221, 6240, 6247, 6255, 6319, 6332, 6341, 6349, 6439, 6465, 6492, 6516, 6541, 6663, 6686, 6720, 6721, 6761, 6798, 6844, 6859, 6861, 6862, 6868, 6907, 6924, 6925, 6933, 6962, 6988, 6995, 7021, 7025, 7026, 7045, 7066, 7086, 7146, 7156, 7204, 7219, 7225, 7269, 7295, 7362, 7378, 7381, 7411, 7434, 7483, 7496, 7531, 7655, 7666, 7684, 7799, 7928, 7952, 7973, 7976, 7989, 8055, 8100, 8116, 8186, 8205, 8216, 8217, 8235, 8294, 8297, 8318, 8374, 8383, 8388, 8421, 8432, 8439, 8453, 8476, 8514, 8567, 8619, 8669, 8705, 8714, 8744, 8766, 8795, 8799, 8827, 8847, 8855, 8914, 8919, 8956, 8987, 9048, 9070, 9113, 9126, 9132, 9135, 9198, 9214, 9223, 9257, 9299, 9341, 9360, 9370, 9417, 9436, 9513, 9516, 9532, 9533, 9562, 9603, 9605, 9632, 9635, 9670, 9674, 9698, 9721, 9734, 9789, 9806, 9838, 9849, 9859, 9891, 9913, 9933, 9958, 10224, 10343, 10351, 10405, 10417, 10423, 10454, 10541, 10558, 10562, 10569, 10574, 10601, 10606, 10621, 10629, 10637, 10692, 10712, 10714, 10727, 10762, 10822, 10827, 10836, 10859, 10873, 10927, 10939, 10976, 11064, 11071, 11101, 11111, 11134, 11135, 11138, 11143, 11150, 11240, 11271, 11332, 11354, 11434, 11448, 11475, 11539, 11602, 11604, 11642, 11687, 11700, 11750, 11767, 11776, 11892, 11913, 11946, 11956, 12009, 12094, 12109, 12140, 12162, 12164, 12217, 12245, 12277, 12319, 12328, 12329, 12338, 12341, 12349, 12403, 12476, 12483, 12526, 12539, 12547, 12552, 12565, 12575, 12608, 12634, 12695, 12702, 12723, 12726, 12732, 12797, 12830, 12914, 12924, 12941, 12976, 12989, 12996, 13027, 13035, 13093, 13139, 13143, 13168, 13232, 13250, 13253, 13258, 13340, 13341, 13384, 13385, 13404, 13410, 13420, 13490, 13543, 13561, 13587, 13588, 13630, 13631, 13657, 13662, 13678, 13729, 13929, 13950, 13970, 13983, 13988, 14040, 14049, 14121, 14217, 14321, 14377, 14411, 14471, 14489, 14591, 14593, 14595, 14638, 14641, 14669, 14694, 14697, 14731, 14782, 14787, 14803, 14824, 14843, 14884, 14925, 14966, 14987, 14995, 14999, 15008, 15029, 15045, 15049, 15054, 15107, 15151, 15185, 15205, 15255, 15272, 15275, 15314, 15327, 15345, 15401, 15462, 15474, 15481, 15655, 15720, 15744, 15749, 15814, 15824, 15874, 15880, 15916, 15931, 15934, 15946, 15985, 15987, 16030, 16068, 16092, 16174, 16230, 16248, 16334, 16390, 16403, 16417, 16426, 16442, 16501, 16613, 16616, 16620, 16634, 16679, 16708, 16743, 16778, 16784, 16886, 16923, 16929, 16949, 16957, 16983, 16993, 17019, 17043, 17120, 17162, 17167, 17174, 17199, 17226, 17252, 17266, 17273, 17299, 17347, 17363, 17452, 17455, 17458, 17463, 17479, 17512, 17521, 17640, 17641, 17710, 17748, 17752, 17779, 17800, 17890, 17901, 17986, 17987, 18040, 18074, 18124, 18158, 18163, 18177, 18198, 18217, 18231, 18232, 18233, 18251, 18267, 18293, 18307, 18345, 18359, 18372, 18379, 18429, 18465, 18514, 18518, 18532, 18535, 18571, 18580, 18601, 18624, 18682, 18759, 18888, 19032, 19040, 19050, 19080, 19122, 19174, 19176, 19192, 19208, 19248, 19266, 19322, 19364, 19366, 19368, 19373, 19378, 19388, 19401, 19407, 19410, 19417, 19466, 19519, 19567, 19576, 19594, 19618, 19625, 19671, 19896, 19913, 19971, 19988, 20016, 20039, 20072, 20088, 20122, 20142, 20160, 20185, 20186, 20246, 20299, 20306, 20321, 20350, 20377, 20442, 20460, 20477, 20636, 20721, 20736, 20788, 20806, 20825, 20840, 20897, 20907, 20942, 21023, 21027, 21032, 21039, 21122, 21269, 21291, 21333, 21377, 21380, 21400, 21423, 21448, 21498, 21521, 21527, 21544, 21549, 21573, 21592, 21608, 21637, 21656, 21673, 21678, 21679, 21763, 21790, 21805, 21818, 21827, 21843, 21844, 21848, 21882, 21913, 21987, 21995, 22005, 22010, 22023, 22026, 22028, 22046, 22075, 22096, 22171, 22252, 22303, 22336, 22360, 22398, 22407, 22440, 22514, 22564, 22607, 22627, 22633, 22735, 22753, 22757, 22759, 22783, 22790, 22796, 22816, 22825, 22846, 22849, 22895, 22960, 22995, 23024, 23217, 23219, 23248, 23254, 23338, 23434, 23441, 23445, 23457, 23479, 23511, 23560, 23568, 23572, 23575, 23620, 23683, 23687, 23707, 23710, 23732, 23734, 23740, 23808, 23939, 23957, 23984, 23987, 24040, 24041, 24059, 24162, 24195, 24226, 24234, 24248, 24254, 24284, 24320, 24330, 24353, 24361, 24386, 24421, 24425, 24505, 24521, 24566, 24581, 24593, 24656, 24662, 24767, 24797, 24798, 24812, 24824, 24840, 24865, 24875, 24914, 24948, 24967, 24980, 24994, 25007, 25023, 25043, 25065, 25083, 25089, 25091, 25221, 25235, 25294, 25304, 25355, 25457, 25500, 25502, 25532, 25616, 25650, 25651, 25658, 25693, 25698, 25709, 25737, 25739, 25746, 25811, 25813, 25816, 25841, 25864, 25915, 25940, 25983, 25996, 26008, 26016, 26053, 26103, 26120, 26135, 26148, 26178, 26254, 26432, 26453, 26471, 26490, 26499, 26581, 26649, 26718, 26733, 26737, 26777, 26788, 26812, 26815, 26825, 26851, 26857, 26897, 26921, 26937, 26940, 26944, 26949, 26974, 27026, 27067, 27072, 27076, 27097, 27109, 27153, 27209, 27229, 27278, 27329, 27331, 27346, 27358, 27384, 27412, 27415, 27490, 27505, 27548, 27549, 27556, 27606, 27629, 27635, 27652, 27696, 27761, 27779, 27803, 27810, 27826, 27827, 27833, 27861, 27886, 27937, 27945, 27978, 27984, 28041, 28067, 28141, 28146, 28215, 28255, 28261, 28272, 28303, 28312, 28327, 28348, 28354, 28360, 28495, 28499, 28525, 28571, 28583, 28609, 28626, 28640, 28642, 28672, 28720, 28778, 28801, 28842, 28910, 28923, 28930, 28947, 28992, 29017, 29026, 29037, 29053, 29077, 29092, 29096, 29117, 29123, 29137, 29198, 29247, 29316, 29327, 29385, 29410, 29439, 29528, 29579, 29587, 29642, 29668, 29731, 29799, 29805, 29826, 29856, 29859, 29877, 29894, 29944, 29965, 29966, 30007, 30017, 30028, 30037, 30107, 30146, 30156, 30157, 30177, 30206, 30219, 30293, 30361, 30384, 30391, 30401, 30439, 30458, 30465, 30483, 30518, 30534, 30586, 30617, 30636, 30675, 30695, 30696, 30710, 30711, 30781, 30792, 30818, 30824, 30837, 30850, 30860, 30913, 30932, 30937, 30994, 31013, 31018, 31096, 31161, 31174, 31223, 31238, 31243, 31244, 31356, 31368, 31374, 31418, 31512, 31533, 31595, 31604, 31639, 31666, 31667, 31673, 31693, 31758, 31789, 31831, 31912, 31948, 31981, 32019, 32027, 32058, 32078, 32079, 32102, 32169, 32176, 32195, 32200, 32257, 32360, 32362, 32375, 32428, 32451, 32460, 32464, 32487, 32500, 32558, 32593, 32610, 32656, 32665, 32692, 32718, 32728, 32746, 32809, 32851, 32871, 32876, 32893, 32902, 32967, 32980, 32988, 32989, 32996, 33008, 33037, 33060, 33110, 33123, 33141, 33186, 33212, 33229, 33280, 33338, 33349, 33384, 33421, 33467, 33492, 33507, 33509, 33518, 33524, 33527, 33549, 33580, 33597, 33607, 33611, 33638, 33693, 33708, 33710, 33717, 33728, 33856, 33881, 33957, 33962, 33998, 34063, 34132, 34135, 34232, 34233, 34254, 34273, 34284, 34286, 34321, 34388, 34423, 34453, 34461, 34464, 34469, 34473, 34494, 34495, 34517, 34522, 34597, 34613, 34636, 34642, 34715, 34716, 34743, 34762, 34782, 34804, 34896, 34898, 34921, 34945, 34946, 34961, 34965, 35022, 35075, 35115, 35187, 35203, 35227, 35255, 35311, 35319, 35328, 35352, 35449, 35521, 35545, 35601, 35603, 35641, 35646, 35652, 35753, 35808, 35821, 35825, 35834, 35855, 35861, 35876, 35937, 35942, 36028, 36106, 36109, 36112, 36160, 36165, 36227, 36241, 36369, 36373, 36411, 36425, 36469, 36488, 36501, 36540, 36556, 36598]\n"
          ],
          "name": "stdout"
        }
      ]
    },
    {
      "cell_type": "code",
      "metadata": {
        "id": "sQ0HBCuJ61N_",
        "colab_type": "code",
        "colab": {}
      },
      "source": [
        "indices=sol.bestIndividual"
      ],
      "execution_count": 0,
      "outputs": []
    },
    {
      "cell_type": "code",
      "metadata": {
        "id": "IuusEYJ062HG",
        "colab_type": "code",
        "outputId": "cb2f1e38-cf7b-469f-90c0-5be4ce02783b",
        "colab": {
          "base_uri": "https://localhost:8080/",
          "height": 34
        }
      },
      "source": [
        "print(len(sol.bestIndividual))"
      ],
      "execution_count": 0,
      "outputs": [
        {
          "output_type": "stream",
          "text": [
            "1239\n"
          ],
          "name": "stdout"
        }
      ]
    },
    {
      "cell_type": "code",
      "metadata": {
        "id": "O_qjGy2264wm",
        "colab_type": "code",
        "colab": {}
      },
      "source": [
        "X_train_WG=X_train[:,indices]\n",
        "X_test_WG=X_test[:,indices]"
      ],
      "execution_count": 0,
      "outputs": []
    },
    {
      "cell_type": "code",
      "metadata": {
        "id": "qmH6IM9F67Ou",
        "colab_type": "code",
        "outputId": "13e91cc0-26fb-4934-9aee-59f44c96184c",
        "colab": {
          "base_uri": "https://localhost:8080/",
          "height": 34
        }
      },
      "source": [
        "X_train_WG.shape"
      ],
      "execution_count": 0,
      "outputs": [
        {
          "output_type": "execute_result",
          "data": {
            "text/plain": [
              "(840, 1239)"
            ]
          },
          "metadata": {
            "tags": []
          },
          "execution_count": 25
        }
      ]
    },
    {
      "cell_type": "code",
      "metadata": {
        "id": "o-Q2_Cen8T3B",
        "colab_type": "code",
        "colab": {}
      },
      "source": [
        "np.save(\"X_train_WG.npy\",X_train_WG)\n",
        "np.save(\"y_train_WG.npy\",y_train)\n",
        "np.save(\"X_test_WG.npy\",X_test_WG)\n",
        "np.save(\"y_test_WG.npy\",y_test)"
      ],
      "execution_count": 0,
      "outputs": []
    },
    {
      "cell_type": "code",
      "metadata": {
        "id": "DuAieKp98U1N",
        "colab_type": "code",
        "colab": {}
      },
      "source": [
        "from google.colab import files\n",
        "files.download('X_train_WG.npy')\n",
        "files.download('X_test_WG.npy')\n",
        "files.download('y_train_WG.npy')\n",
        "files.download('y_test_WG.npy')"
      ],
      "execution_count": 0,
      "outputs": []
    },
    {
      "cell_type": "code",
      "metadata": {
        "id": "_sb_TOAJCPMr",
        "colab_type": "code",
        "colab": {}
      },
      "source": [
        ""
      ],
      "execution_count": 0,
      "outputs": []
    }
  ]
}