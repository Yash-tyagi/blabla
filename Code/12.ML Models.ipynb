{
 "cells": [
  {
   "cell_type": "code",
   "execution_count": 1,
   "metadata": {},
   "outputs": [],
   "source": [
    "from sklearn.model_selection import train_test_split\n",
    "from sklearn.svm import SVC\n",
    "from sklearn.metrics import accuracy_score\n",
    "from sklearn.metrics import confusion_matrix,classification_report\n",
    "import numpy as np\n",
    "import time\n",
    "from sklearn.naive_bayes import GaussianNB\n",
    "from sklearn.ensemble import AdaBoostClassifier\n",
    "from sklearn import tree\n",
    "from sklearn.ensemble import RandomForestClassifier"
   ]
  },
  {
   "cell_type": "code",
   "execution_count": 26,
   "metadata": {},
   "outputs": [],
   "source": [
    "X_train=np.load(\"X_train.npy\")\n",
    "y_train=np.load(\"y_train.npy\")\n",
    "X_test=np.load(\"X_test.npy\")\n",
    "y_test=np.load(\"y_test.npy\")"
   ]
  },
  {
   "cell_type": "code",
   "execution_count": 6,
   "metadata": {},
   "outputs": [
    {
     "data": {
      "text/plain": [
       "(840, 208, 176)"
      ]
     },
     "execution_count": 6,
     "metadata": {},
     "output_type": "execute_result"
    }
   ],
   "source": [
    "X_train.shape"
   ]
  },
  {
   "cell_type": "code",
   "execution_count": 27,
   "metadata": {},
   "outputs": [],
   "source": [
    "X_train=X_train.reshape(840,208*176)\n",
    "X_test=X_test.reshape(360,208*176)"
   ]
  },
  {
   "cell_type": "code",
   "execution_count": 28,
   "metadata": {},
   "outputs": [
    {
     "name": "stdout",
     "output_type": "stream",
     "text": [
      "X_test.shape (360, 36608)\n",
      "X_train.shape (840, 36608)\n",
      "Y_test.shape (840,)\n",
      "y_test.shape (360,)\n"
     ]
    }
   ],
   "source": [
    "print('X_test.shape',X_test.shape)\n",
    "print('X_train.shape',X_train.shape)\n",
    "print('Y_test.shape',y_train.shape)\n",
    "print('y_test.shape',y_test.shape)"
   ]
  },
  {
   "cell_type": "code",
   "execution_count": 29,
   "metadata": {},
   "outputs": [],
   "source": [
    "X_train_GA=np.load(\"X_train_GA.npy\")\n",
    "y_train_GA=np.load(\"y_train_GA.npy\")\n",
    "X_test_GA=np.load(\"X_test_GA.npy\")\n",
    "y_test_GA=np.load(\"y_test_GA.npy\")"
   ]
  },
  {
   "cell_type": "code",
   "execution_count": 30,
   "metadata": {},
   "outputs": [
    {
     "name": "stdout",
     "output_type": "stream",
     "text": [
      "X_test_GA.shape (360, 7090)\n",
      "X_train_GA.shape (840, 7090)\n",
      "Y_test_GA.shape (840,)\n",
      "y_test_GA.shape (360,)\n"
     ]
    }
   ],
   "source": [
    "print('X_test_GA.shape',X_test_GA.shape)\n",
    "print('X_train_GA.shape',X_train_GA.shape)\n",
    "print('Y_test_GA.shape',y_train_GA.shape)\n",
    "print('y_test_GA.shape',y_test_GA.shape)"
   ]
  },
  {
   "cell_type": "code",
   "execution_count": 31,
   "metadata": {},
   "outputs": [],
   "source": [
    "X_train_PSO=np.load(\"X_train_PSO.npy\")\n",
    "y_train_PSO=np.load(\"y_train_PSO.npy\")\n",
    "X_test_PSO=np.load(\"X_test_PSO.npy\")\n",
    "y_test_PSO=np.load(\"y_test_PSO.npy\")"
   ]
  },
  {
   "cell_type": "code",
   "execution_count": 32,
   "metadata": {},
   "outputs": [
    {
     "name": "stdout",
     "output_type": "stream",
     "text": [
      "X_test_PSO.shape (360, 1108)\n",
      "X_train_PSO.shape (840, 1108)\n",
      "Y_test_PSO.shape (840,)\n",
      "y_test_PSO.shape (360,)\n"
     ]
    }
   ],
   "source": [
    "print('X_test_PSO.shape',X_test_PSO.shape)\n",
    "print('X_train_PSO.shape',X_train_PSO.shape)\n",
    "print('Y_test_PSO.shape',y_train_PSO.shape)\n",
    "print('y_test_PSO.shape',y_test_PSO.shape)"
   ]
  },
  {
   "cell_type": "code",
   "execution_count": 21,
   "metadata": {},
   "outputs": [
    {
     "name": "stdout",
     "output_type": "stream",
     "text": [
      "--- 33.966259241104126 seconds ---\n",
      "0.9777777777777777\n",
      "[[ 76   0   0   1]\n",
      " [  0  91   0   0]\n",
      " [  0   0  85   7]\n",
      " [  0   0   0 100]]\n",
      "                  precision    recall  f1-score   support\n",
      "\n",
      "    MildDemented       1.00      0.99      0.99        77\n",
      "ModerateDemented       1.00      1.00      1.00        91\n",
      "     NonDemented       1.00      0.92      0.96        92\n",
      "VeryMildDemented       0.93      1.00      0.96       100\n",
      "\n",
      "        accuracy                           0.98       360\n",
      "       macro avg       0.98      0.98      0.98       360\n",
      "    weighted avg       0.98      0.98      0.98       360\n",
      "\n"
     ]
    }
   ],
   "source": [
    "start_time = time.time()\n",
    "classifier = SVC(kernel = 'linear')\n",
    "classifier.fit(X_train, y_train)\n",
    "print(\"--- %s seconds ---\" % (time.time() - start_time))\n",
    "print(classifier.score(X_test,y_test))\n",
    "y_pred = classifier.predict(X_test)\n",
    "print(confusion_matrix(y_test, y_pred))\n",
    "print(classification_report(y_test,y_pred))"
   ]
  },
  {
   "cell_type": "code",
   "execution_count": 23,
   "metadata": {},
   "outputs": [
    {
     "name": "stdout",
     "output_type": "stream",
     "text": [
      "--- 5.623970031738281 seconds ---\n",
      "0.9722222222222222\n",
      "[[76  0  0  1]\n",
      " [ 0 91  0  0]\n",
      " [ 0  0 85  7]\n",
      " [ 0  0  2 98]]\n",
      "                  precision    recall  f1-score   support\n",
      "\n",
      "    MildDemented       1.00      0.99      0.99        77\n",
      "ModerateDemented       1.00      1.00      1.00        91\n",
      "     NonDemented       0.98      0.92      0.95        92\n",
      "VeryMildDemented       0.92      0.98      0.95       100\n",
      "\n",
      "        accuracy                           0.97       360\n",
      "       macro avg       0.98      0.97      0.97       360\n",
      "    weighted avg       0.97      0.97      0.97       360\n",
      "\n"
     ]
    }
   ],
   "source": [
    "start_time = time.time()\n",
    "classifier = SVC(kernel = 'linear')\n",
    "classifier.fit(X_train_GA, y_train_GA)\n",
    "print(\"--- %s seconds ---\" % (time.time() - start_time))\n",
    "print(classifier.score(X_test_GA,y_test_GA))\n",
    "y_pred = classifier.predict(X_test_GA)\n",
    "print(confusion_matrix(y_test_GA, y_pred))\n",
    "print(classification_report(y_test_GA,y_pred))"
   ]
  },
  {
   "cell_type": "code",
   "execution_count": 24,
   "metadata": {},
   "outputs": [
    {
     "name": "stdout",
     "output_type": "stream",
     "text": [
      "--- 0.7111320495605469 seconds ---\n",
      "0.9638888888888889\n",
      "[[76  0  0  1]\n",
      " [ 0 91  0  0]\n",
      " [ 0  0 85  7]\n",
      " [ 0  0  5 95]]\n",
      "                  precision    recall  f1-score   support\n",
      "\n",
      "    MildDemented       1.00      0.99      0.99        77\n",
      "ModerateDemented       1.00      1.00      1.00        91\n",
      "     NonDemented       0.94      0.92      0.93        92\n",
      "VeryMildDemented       0.92      0.95      0.94       100\n",
      "\n",
      "        accuracy                           0.96       360\n",
      "       macro avg       0.97      0.97      0.97       360\n",
      "    weighted avg       0.96      0.96      0.96       360\n",
      "\n"
     ]
    }
   ],
   "source": [
    "start_time = time.time()\n",
    "classifier = SVC(kernel = 'linear')\n",
    "classifier.fit(X_train_PSO, y_train_PSO)\n",
    "print(\"--- %s seconds ---\" % (time.time() - start_time))\n",
    "print(classifier.score(X_test_PSO,y_test_PSO))\n",
    "y_pred = classifier.predict(X_test_PSO)\n",
    "print(confusion_matrix(y_test_PSO, y_pred))\n",
    "print(classification_report(y_test_PSO,y_pred))"
   ]
  },
  {
   "cell_type": "code",
   "execution_count": 25,
   "metadata": {},
   "outputs": [
    {
     "name": "stdout",
     "output_type": "stream",
     "text": [
      "--- 18.924825429916382 seconds ---\n",
      "0.9638888888888889\n"
     ]
    }
   ],
   "source": [
    "from sklearn.neighbors import KNeighborsClassifier\n",
    "start_time = time.time()\n",
    "neigh = KNeighborsClassifier(n_neighbors=3)\n",
    "neigh.fit(X_train, y_train)\n",
    "print(\"--- %s seconds ---\" % (time.time() - start_time))\n",
    "print(neigh.score(X_test,y_test))"
   ]
  },
  {
   "cell_type": "code",
   "execution_count": 26,
   "metadata": {},
   "outputs": [
    {
     "name": "stdout",
     "output_type": "stream",
     "text": [
      "--- 3.407600164413452 seconds ---\n",
      "0.9666666666666667\n"
     ]
    }
   ],
   "source": [
    "from sklearn.neighbors import KNeighborsClassifier\n",
    "start_time = time.time()\n",
    "neigh = KNeighborsClassifier(n_neighbors=3)\n",
    "neigh.fit(X_train_GA, y_train_GA)\n",
    "print(\"--- %s seconds ---\" % (time.time() - start_time))\n",
    "print(neigh.score(X_test_GA,y_test_GA))"
   ]
  },
  {
   "cell_type": "code",
   "execution_count": 27,
   "metadata": {},
   "outputs": [
    {
     "name": "stdout",
     "output_type": "stream",
     "text": [
      "--- 0.6255178451538086 seconds ---\n",
      "0.9527777777777777\n"
     ]
    }
   ],
   "source": [
    "from sklearn.neighbors import KNeighborsClassifier\n",
    "start_time = time.time()\n",
    "neigh = KNeighborsClassifier(n_neighbors=3)\n",
    "neigh.fit(X_train_PSO, y_train_PSO)\n",
    "print(\"--- %s seconds ---\" % (time.time() - start_time))\n",
    "print(neigh.score(X_test_PSO,y_test_PSO))"
   ]
  },
  {
   "cell_type": "code",
   "execution_count": 32,
   "metadata": {},
   "outputs": [
    {
     "name": "stdout",
     "output_type": "stream",
     "text": [
      "--- 33.50071430206299 seconds ---\n",
      "0.8416666666666667\n"
     ]
    }
   ],
   "source": [
    "clf = tree.DecisionTreeClassifier(random_state=0)\n",
    "start_time = time.time()\n",
    "clf.fit(X_train,y_train)\n",
    "print(\"--- %s seconds ---\" % (time.time() - start_time))\n",
    "print(clf.score(X_test,y_test))"
   ]
  },
  {
   "cell_type": "code",
   "execution_count": 33,
   "metadata": {},
   "outputs": [
    {
     "name": "stdout",
     "output_type": "stream",
     "text": [
      "--- 2.9196455478668213 seconds ---\n",
      "0.8527777777777777\n"
     ]
    }
   ],
   "source": [
    "clf = tree.DecisionTreeClassifier(random_state=0)\n",
    "start_time = time.time()\n",
    "clf.fit(X_train_GA,y_train_GA)\n",
    "print(\"--- %s seconds ---\" % (time.time() - start_time))\n",
    "print(clf.score(X_test_GA,y_test_GA))"
   ]
  },
  {
   "cell_type": "code",
   "execution_count": 34,
   "metadata": {},
   "outputs": [
    {
     "name": "stdout",
     "output_type": "stream",
     "text": [
      "--- 0.5149908065795898 seconds ---\n",
      "0.8361111111111111\n"
     ]
    }
   ],
   "source": [
    "clf = tree.DecisionTreeClassifier(random_state=0)\n",
    "start_time = time.time()\n",
    "clf.fit(X_train_PSO,y_train_PSO)\n",
    "print(\"--- %s seconds ---\" % (time.time() - start_time))\n",
    "print(clf.score(X_test_PSO,y_test_PSO))"
   ]
  },
  {
   "cell_type": "code",
   "execution_count": 35,
   "metadata": {},
   "outputs": [
    {
     "name": "stdout",
     "output_type": "stream",
     "text": [
      "--- 9.95036792755127 seconds ---\n",
      "0.775\n"
     ]
    }
   ],
   "source": [
    "\n",
    "clf = RandomForestClassifier(max_depth=4, random_state=0)\n",
    "start_time=time.time()\n",
    "clf.fit(X_train,y_train)\n",
    "print(\"--- %s seconds ---\" % (time.time() - start_time))\n",
    "print(clf.score(X_test,y_test))"
   ]
  },
  {
   "cell_type": "code",
   "execution_count": 36,
   "metadata": {},
   "outputs": [
    {
     "name": "stdout",
     "output_type": "stream",
     "text": [
      "--- 1.8446540832519531 seconds ---\n",
      "0.7777777777777778\n"
     ]
    }
   ],
   "source": [
    "\n",
    "clf = RandomForestClassifier(max_depth=4, random_state=0)\n",
    "start_time=time.time()\n",
    "clf.fit(X_train_GA,y_train_GA)\n",
    "print(\"--- %s seconds ---\" % (time.time() - start_time))\n",
    "print(clf.score(X_test_GA,y_test_GA))"
   ]
  },
  {
   "cell_type": "code",
   "execution_count": 37,
   "metadata": {},
   "outputs": [
    {
     "name": "stdout",
     "output_type": "stream",
     "text": [
      "--- 0.8612842559814453 seconds ---\n",
      "0.7777777777777778\n"
     ]
    }
   ],
   "source": [
    "\n",
    "clf = RandomForestClassifier(max_depth=4, random_state=0)\n",
    "start_time=time.time()\n",
    "clf.fit(X_train_PSO,y_train_PSO)\n",
    "print(\"--- %s seconds ---\" % (time.time() - start_time))\n",
    "print(clf.score(X_test_PSO,y_test_PSO))"
   ]
  },
  {
   "cell_type": "code",
   "execution_count": 38,
   "metadata": {},
   "outputs": [
    {
     "name": "stdout",
     "output_type": "stream",
     "text": [
      "--- 441.6781499385834 seconds ---\n",
      "0.7583333333333333\n"
     ]
    }
   ],
   "source": [
    "\n",
    "start_time = time.time()\n",
    "clf = AdaBoostClassifier(algorithm = 'SAMME')\n",
    "clf.fit(X_train,y_train)\n",
    "print(\"--- %s seconds ---\" % (time.time() - start_time))\n",
    "print(clf.score(X_test,y_test))"
   ]
  },
  {
   "cell_type": "code",
   "execution_count": 39,
   "metadata": {},
   "outputs": [
    {
     "name": "stdout",
     "output_type": "stream",
     "text": [
      "--- 27.488269090652466 seconds ---\n",
      "0.7361111111111112\n"
     ]
    }
   ],
   "source": [
    "\n",
    "start_time = time.time()\n",
    "clf = AdaBoostClassifier(algorithm = 'SAMME')\n",
    "clf.fit(X_train_GA,y_train_GA)\n",
    "print(\"--- %s seconds ---\" % (time.time() - start_time))\n",
    "print(clf.score(X_test_GA,y_test_GA))"
   ]
  },
  {
   "cell_type": "code",
   "execution_count": 40,
   "metadata": {},
   "outputs": [
    {
     "name": "stdout",
     "output_type": "stream",
     "text": [
      "--- 4.3850696086883545 seconds ---\n",
      "0.7055555555555556\n"
     ]
    }
   ],
   "source": [
    "\n",
    "start_time = time.time()\n",
    "clf = AdaBoostClassifier(algorithm = 'SAMME')\n",
    "clf.fit(X_train_PSO,y_train_PSO)\n",
    "print(\"--- %s seconds ---\" % (time.time() - start_time))\n",
    "print(clf.score(X_test_PSO,y_test_PSO))"
   ]
  },
  {
   "cell_type": "code",
   "execution_count": 34,
   "metadata": {},
   "outputs": [
    {
     "name": "stdout",
     "output_type": "stream",
     "text": [
      "--- 79.4647970199585 seconds ---\n",
      "0.9777777777777777\n",
      "[[ 76   0   0   1]\n",
      " [  0  91   0   0]\n",
      " [  0   0  85   7]\n",
      " [  0   0   0 100]]\n",
      "                  precision    recall  f1-score   support\n",
      "\n",
      "    MildDemented       1.00      0.99      0.99        77\n",
      "ModerateDemented       1.00      1.00      1.00        91\n",
      "     NonDemented       1.00      0.92      0.96        92\n",
      "VeryMildDemented       0.93      1.00      0.96       100\n",
      "\n",
      "        accuracy                           0.98       360\n",
      "       macro avg       0.98      0.98      0.98       360\n",
      "    weighted avg       0.98      0.98      0.98       360\n",
      "\n"
     ]
    }
   ],
   "source": [
    "start_time = time.time()\n",
    "clf = AdaBoostClassifier(base_estimator=SVC(kernel='linear'), algorithm='SAMME')\n",
    "clf.fit(X_train,y_train)\n",
    "print(\"--- %s seconds ---\" % (time.time() - start_time))\n",
    "print(clf.score(X_test,y_test))\n",
    "y_pred = clf.predict(X_test)\n",
    "print(confusion_matrix(y_test, y_pred))\n",
    "print(classification_report(y_test,y_pred))"
   ]
  },
  {
   "cell_type": "code",
   "execution_count": 35,
   "metadata": {},
   "outputs": [
    {
     "name": "stdout",
     "output_type": "stream",
     "text": [
      "--- 13.672109842300415 seconds ---\n",
      "0.9722222222222222\n",
      "[[76  0  0  1]\n",
      " [ 0 91  0  0]\n",
      " [ 0  0 85  7]\n",
      " [ 0  0  2 98]]\n",
      "                  precision    recall  f1-score   support\n",
      "\n",
      "    MildDemented       1.00      0.99      0.99        77\n",
      "ModerateDemented       1.00      1.00      1.00        91\n",
      "     NonDemented       0.98      0.92      0.95        92\n",
      "VeryMildDemented       0.92      0.98      0.95       100\n",
      "\n",
      "        accuracy                           0.97       360\n",
      "       macro avg       0.98      0.97      0.97       360\n",
      "    weighted avg       0.97      0.97      0.97       360\n",
      "\n"
     ]
    }
   ],
   "source": [
    "start_time = time.time()\n",
    "clf = AdaBoostClassifier(base_estimator=SVC(kernel='linear'), algorithm='SAMME')\n",
    "clf.fit(X_train_GA,y_train_GA)\n",
    "print(\"--- %s seconds ---\" % (time.time() - start_time))\n",
    "print(clf.score(X_test_GA,y_test_GA))\n",
    "y_pred = clf.predict(X_test_GA)\n",
    "print(confusion_matrix(y_test_GA, y_pred))\n",
    "print(classification_report(y_test_GA,y_pred))"
   ]
  },
  {
   "cell_type": "code",
   "execution_count": 37,
   "metadata": {},
   "outputs": [
    {
     "name": "stdout",
     "output_type": "stream",
     "text": [
      "--- 1.8279733657836914 seconds ---\n",
      "0.9638888888888889\n",
      "[[76  0  0  1]\n",
      " [ 0 91  0  0]\n",
      " [ 0  0 85  7]\n",
      " [ 0  0  5 95]]\n",
      "                  precision    recall  f1-score   support\n",
      "\n",
      "    MildDemented       1.00      0.99      0.99        77\n",
      "ModerateDemented       1.00      1.00      1.00        91\n",
      "     NonDemented       0.94      0.92      0.93        92\n",
      "VeryMildDemented       0.92      0.95      0.94       100\n",
      "\n",
      "        accuracy                           0.96       360\n",
      "       macro avg       0.97      0.97      0.97       360\n",
      "    weighted avg       0.96      0.96      0.96       360\n",
      "\n"
     ]
    }
   ],
   "source": [
    "start_time = time.time()\n",
    "clf = AdaBoostClassifier(base_estimator=SVC(kernel='linear'), algorithm='SAMME')\n",
    "clf.fit(X_train_PSO,y_train_PSO)\n",
    "print(\"--- %s seconds ---\" % (time.time() - start_time))\n",
    "print(clf.score(X_test_PSO,y_test_PSO))\n",
    "y_pred = clf.predict(X_test_PSO)\n",
    "print(confusion_matrix(y_test_PSO, y_pred))\n",
    "print(classification_report(y_test_PSO,y_pred))"
   ]
  },
  {
   "cell_type": "code",
   "execution_count": 17,
   "metadata": {},
   "outputs": [
    {
     "name": "stdout",
     "output_type": "stream",
     "text": [
      "--- 41.6896333694458 seconds ---\n",
      "0.7555555555555555\n"
     ]
    }
   ],
   "source": [
    "start_time = time.time()\n",
    "clf = AdaBoostClassifier(base_estimator=GaussianNB(), algorithm='SAMME')\n",
    "clf.fit(X_train,y_train)\n",
    "print(\"--- %s seconds ---\" % (time.time() - start_time))\n",
    "print(clf.score(X_test,y_test))"
   ]
  },
  {
   "cell_type": "code",
   "execution_count": 16,
   "metadata": {},
   "outputs": [
    {
     "name": "stdout",
     "output_type": "stream",
     "text": [
      "--- 8.763075590133667 seconds ---\n",
      "0.7666666666666667\n"
     ]
    }
   ],
   "source": [
    "start_time = time.time()\n",
    "clf = AdaBoostClassifier(base_estimator=GaussianNB(), algorithm='SAMME')\n",
    "clf.fit(X_train_GA,y_train_GA)\n",
    "print(\"--- %s seconds ---\" % (time.time() - start_time))\n",
    "print(clf.score(X_test_GA,y_test_GA))"
   ]
  },
  {
   "cell_type": "code",
   "execution_count": 15,
   "metadata": {},
   "outputs": [
    {
     "name": "stdout",
     "output_type": "stream",
     "text": [
      "--- 1.3299829959869385 seconds ---\n",
      "0.7305555555555555\n"
     ]
    }
   ],
   "source": [
    "start_time = time.time()\n",
    "clf = AdaBoostClassifier(base_estimator=GaussianNB(), algorithm='SAMME')\n",
    "clf.fit(X_train_PSO,y_train_PSO)\n",
    "print(\"--- %s seconds ---\" % (time.time() - start_time))\n",
    "print(clf.score(X_test_PSO,y_test_PSO))"
   ]
  },
  {
   "cell_type": "code",
   "execution_count": 23,
   "metadata": {},
   "outputs": [
    {
     "data": {
      "image/png": "[encoded data removed]",
      "text/plain": [
       "<Figure size 432x288 with 1 Axes>"
      ]
     },
     "metadata": {},
     "output_type": "display_data"
    }
   ],
   "source": [
    "import matplotlib.pyplot as plt\n",
    " \n",
    "# data to plot\n",
    "n_groups = 7\n",
    "original = (97.77, 96.38, 84.16, 77.5, 75.83, 97.77, 75.55)\n",
    "GA = (97.22, 96.66, 85.27, 77.77, 73.61, 97.22, 76.66)\n",
    "PSO = (96.38, 95.27, 83.61, 77.77, 70.55, 96.38, 73.05)\n",
    "\n",
    "# create plot\n",
    "fig, ax = plt.subplots()\n",
    "index = np.arange(n_groups)\n",
    "bar_width = 0.25\n",
    "opacity = 1.0\n",
    " \n",
    "rects1 = plt.bar(index,original, bar_width,\n",
    "alpha=opacity,\n",
    "color='royalblue',\n",
    "label='Original')\n",
    " \n",
    "rects2 = plt.bar(index + bar_width, GA, bar_width,\n",
    "alpha=opacity,\n",
    "color='deepskyblue',\n",
    "label='GA')\n",
    "\n",
    "rects3 = plt.bar(index + bar_width + bar_width , PSO, bar_width,\n",
    "alpha=opacity,\n",
    "color='lightblue',\n",
    "label='PSO')\n",
    " \n",
    "plt.xlabel('Classifiers')\n",
    "plt.ylabel('Scores')\n",
    "plt.title('Accuracy')\n",
    "plt.xticks(index + bar_width, ('SVM', 'KNN', 'D-Tree', 'RForest', 'Adaboost', 'AdaSVM', 'AdaNaive'))\n",
    "plt.legend()\n",
    " \n",
    "plt.tight_layout()\n",
    "plt.show()"
   ]
  },
  {
   "cell_type": "code",
   "execution_count": 43,
   "metadata": {},
   "outputs": [
    {
     "data": {
      "image/png": "[encoded data removed]",
      "text/plain": [
       "<Figure size 432x288 with 1 Axes>"
      ]
     },
     "metadata": {},
     "output_type": "display_data"
    }
   ],
   "source": [
    "# data to plot\n",
    "n_groups = 7\n",
    "original = (33.96, 18.92, 33.50, 9.95, 441.67, 79.46, 41.68)\n",
    "GA = (5.62, 3.40, 2.91, 1.84, 27.48, 13.67, 8.76)\n",
    "PSO = (0.71, 0.62, 0.51, 0.86, 4.38, 1.82, 1.32)\n",
    "\n",
    "# create plot\n",
    "fig, ax = plt.subplots()\n",
    "index = np.arange(n_groups)\n",
    "bar_width = 0.25\n",
    "opacity = 1.0\n",
    " \n",
    "rects1 = plt.bar(index,original, bar_width,\n",
    "alpha=opacity,\n",
    "color='royalblue',\n",
    "label='Original')\n",
    " \n",
    "rects2 = plt.bar(index + bar_width, GA, bar_width,\n",
    "alpha=opacity,\n",
    "color='deepskyblue',\n",
    "label='GA')\n",
    "\n",
    "rects3 = plt.bar(index + bar_width + bar_width , PSO, bar_width,\n",
    "alpha=opacity,\n",
    "color='lightblue',\n",
    "label='PSO')\n",
    " \n",
    "plt.xlabel('Classifiers')\n",
    "plt.ylabel('Seconds')\n",
    "plt.title('Time Taken')\n",
    "plt.xticks(index + bar_width, ('SVM', 'KNN', 'D-Tree', 'RForest', 'Adaboost', 'AdaSVM', 'AdaNaive'))\n",
    "plt.legend()\n",
    " \n",
    "plt.tight_layout()\n",
    "plt.show()"
   ]
  },
  {
   "cell_type": "code",
   "execution_count": 42,
   "metadata": {},
   "outputs": [
    {
     "data": {
      "text/plain": [
       "<matplotlib.axes._subplots.AxesSubplot at 0x1df20065860>"
      ]
     },
     "execution_count": 42,
     "metadata": {},
     "output_type": "execute_result"
    },
    {
     "data": {
      "image/png": "[encoded data removed]",
      "text/plain": [
       "<Figure size 288x288 with 2 Axes>"
      ]
     },
     "metadata": {},
     "output_type": "display_data"
    }
   ],
   "source": [
    "import seaborn as sn\n",
    "import pandas as pd\n",
    "import matplotlib.pyplot as plt\n",
    "array=[[76,  0,  0,  1],\n",
    " [ 0 ,91 , 0 , 0],\n",
    " [ 0 , 0, 85,  7],\n",
    " [ 0,  0 , 5, 95]]\n",
    "df_cm = pd.DataFrame(array)\n",
    "plt.figure(figsize = (4,4))\n",
    "sn.heatmap(df_cm, annot=True)"
   ]
  },
  {
   "cell_type": "markdown",
   "metadata": {},
   "source": [
    "### WOA"
   ]
  },
  {
   "cell_type": "code",
   "execution_count": 2,
   "metadata": {},
   "outputs": [],
   "source": [
    "X_train_WOA=np.load(\"X_train_WOA.npy\")\n",
    "y_train_WOA=np.load(\"y_train_WOA.npy\")\n",
    "X_test_WOA=np.load(\"X_test_WOA.npy\")\n",
    "y_test_WOA=np.load(\"y_test_WOA.npy\")"
   ]
  },
  {
   "cell_type": "code",
   "execution_count": 3,
   "metadata": {},
   "outputs": [
    {
     "name": "stdout",
     "output_type": "stream",
     "text": [
      "X_test_WOA.shape (360, 567)\n",
      "X_train_WOA.shape (840, 567)\n",
      "Y_test_WOA.shape (840,)\n",
      "y_test_WOA.shape (360,)\n"
     ]
    }
   ],
   "source": [
    "print('X_test_WOA.shape',X_test_WOA.shape)\n",
    "print('X_train_WOA.shape',X_train_WOA.shape)\n",
    "print('Y_test_WOA.shape',y_train_WOA.shape)\n",
    "print('y_test_WOA.shape',y_test_WOA.shape)"
   ]
  },
  {
   "cell_type": "code",
   "execution_count": 4,
   "metadata": {},
   "outputs": [
    {
     "name": "stdout",
     "output_type": "stream",
     "text": [
      "--- 0.531804084777832 seconds ---\n",
      "0.9194444444444444\n"
     ]
    }
   ],
   "source": [
    "start_time = time.time()\n",
    "classifier = SVC(kernel = 'linear')\n",
    "classifier.fit(X_train_WOA, y_train_WOA)\n",
    "print(\"--- %s seconds ---\" % (time.time() - start_time))\n",
    "print(classifier.score(X_test_WOA,y_test_WOA))\n",
    "#y_pred = classifier.predict(X_test_WOA)\n",
    "#print(confusion_matrix(y_test_WOA, y_pred))\n",
    "#print(classification_report(y_test_WOA,y_pred))"
   ]
  },
  {
   "cell_type": "code",
   "execution_count": 5,
   "metadata": {},
   "outputs": [
    {
     "name": "stdout",
     "output_type": "stream",
     "text": [
      "--- 0.2521402835845947 seconds ---\n",
      "0.9638888888888889\n"
     ]
    }
   ],
   "source": [
    "from sklearn.neighbors import KNeighborsClassifier\n",
    "start_time = time.time()\n",
    "neigh = KNeighborsClassifier(n_neighbors=3)\n",
    "neigh.fit(X_train_WOA, y_train_WOA)\n",
    "print(\"--- %s seconds ---\" % (time.time() - start_time))\n",
    "print(neigh.score(X_test_WOA,y_test_WOA))"
   ]
  },
  {
   "cell_type": "code",
   "execution_count": 6,
   "metadata": {},
   "outputs": [
    {
     "name": "stdout",
     "output_type": "stream",
     "text": [
      "--- 0.39133524894714355 seconds ---\n",
      "0.8055555555555556\n"
     ]
    }
   ],
   "source": [
    "clf = tree.DecisionTreeClassifier(random_state=0)\n",
    "start_time = time.time()\n",
    "clf.fit(X_train_WOA,y_train_WOA)\n",
    "print(\"--- %s seconds ---\" % (time.time() - start_time))\n",
    "print(clf.score(X_test_WOA,y_test_WOA))"
   ]
  },
  {
   "cell_type": "code",
   "execution_count": 7,
   "metadata": {},
   "outputs": [
    {
     "name": "stdout",
     "output_type": "stream",
     "text": [
      "--- 0.6496233940124512 seconds ---\n",
      "0.7694444444444445\n"
     ]
    }
   ],
   "source": [
    "clf = RandomForestClassifier(max_depth=4, random_state=0)\n",
    "start_time=time.time()\n",
    "clf.fit(X_train_WOA,y_train_WOA)\n",
    "print(\"--- %s seconds ---\" % (time.time() - start_time))\n",
    "print(clf.score(X_test_WOA,y_test_WOA))"
   ]
  },
  {
   "cell_type": "code",
   "execution_count": 8,
   "metadata": {},
   "outputs": [
    {
     "name": "stdout",
     "output_type": "stream",
     "text": [
      "--- 2.386406898498535 seconds ---\n",
      "0.7\n"
     ]
    }
   ],
   "source": [
    "start_time = time.time()\n",
    "clf = AdaBoostClassifier(algorithm = 'SAMME')\n",
    "clf.fit(X_train_WOA,y_train_WOA)\n",
    "print(\"--- %s seconds ---\" % (time.time() - start_time))\n",
    "print(clf.score(X_test_WOA,y_test_WOA))"
   ]
  },
  {
   "cell_type": "code",
   "execution_count": 9,
   "metadata": {},
   "outputs": [
    {
     "name": "stdout",
     "output_type": "stream",
     "text": [
      "--- 0.6691498756408691 seconds ---\n",
      "0.9194444444444444\n"
     ]
    }
   ],
   "source": [
    "start_time = time.time()\n",
    "clf = AdaBoostClassifier(base_estimator=SVC(kernel='linear'), algorithm='SAMME')\n",
    "clf.fit(X_train_WOA,y_train_WOA)\n",
    "print(\"--- %s seconds ---\" % (time.time() - start_time))\n",
    "print(clf.score(X_test_WOA,y_test_WOA))"
   ]
  },
  {
   "cell_type": "code",
   "execution_count": 10,
   "metadata": {},
   "outputs": [
    {
     "name": "stdout",
     "output_type": "stream",
     "text": [
      "--- 0.5669944286346436 seconds ---\n",
      "0.7472222222222222\n"
     ]
    }
   ],
   "source": [
    "start_time = time.time()\n",
    "clf = AdaBoostClassifier(base_estimator=GaussianNB(), algorithm='SAMME')\n",
    "clf.fit(X_train_WOA,y_train_WOA)\n",
    "print(\"--- %s seconds ---\" % (time.time() - start_time))\n",
    "print(clf.score(X_test_WOA,y_test_WOA))"
   ]
  },
  {
   "cell_type": "markdown",
   "metadata": {},
   "source": [
    "### WOA+GA"
   ]
  },
  {
   "cell_type": "code",
   "execution_count": 2,
   "metadata": {},
   "outputs": [],
   "source": [
    "X_train_WG=np.load(\"FeatureSelectionDatasets/X_train_WG.npy\")\n",
    "y_train_WG=np.load(\"FeatureSelectionDatasets/y_train_WG.npy\")\n",
    "X_test_WG=np.load(\"FeatureSelectionDatasets/X_test_WG.npy\")\n",
    "y_test_WG=np.load(\"FeatureSelectionDatasets/y_test_WG.npy\")"
   ]
  },
  {
   "cell_type": "code",
   "execution_count": 15,
   "metadata": {},
   "outputs": [
    {
     "name": "stdout",
     "output_type": "stream",
     "text": [
      "X_test_WG.shape (360, 1239)\n",
      "X_train_WG.shape (840, 1239)\n",
      "Y_test_WG.shape (840,)\n",
      "y_test_WG.shape (360,)\n"
     ]
    }
   ],
   "source": [
    "print('X_test_WG.shape',X_test_WG.shape)\n",
    "print('X_train_WG.shape',X_train_WG.shape)\n",
    "print('Y_test_WG.shape',y_train_WG.shape)\n",
    "print('y_test_WG.shape',y_test_WG.shape)"
   ]
  },
  {
   "cell_type": "code",
   "execution_count": 16,
   "metadata": {},
   "outputs": [
    {
     "name": "stdout",
     "output_type": "stream",
     "text": [
      "--- 0.9295516014099121 seconds ---\n",
      "0.9583333333333334\n"
     ]
    }
   ],
   "source": [
    "start_time = time.time()\n",
    "classifier = SVC(kernel = 'linear')\n",
    "classifier.fit(X_train_WG, y_train_WG)\n",
    "print(\"--- %s seconds ---\" % (time.time() - start_time))\n",
    "print(classifier.score(X_test_WG,y_test_WG))"
   ]
  },
  {
   "cell_type": "code",
   "execution_count": 17,
   "metadata": {},
   "outputs": [
    {
     "name": "stdout",
     "output_type": "stream",
     "text": [
      "--- 0.5035521984100342 seconds ---\n",
      "0.95\n"
     ]
    }
   ],
   "source": [
    "from sklearn.neighbors import KNeighborsClassifier\n",
    "start_time = time.time()\n",
    "neigh = KNeighborsClassifier(n_neighbors=3)\n",
    "neigh.fit(X_train_WG, y_train_WG)\n",
    "print(\"--- %s seconds ---\" % (time.time() - start_time))\n",
    "print(neigh.score(X_test_WG,y_test_WG))"
   ]
  },
  {
   "cell_type": "code",
   "execution_count": 18,
   "metadata": {},
   "outputs": [
    {
     "name": "stdout",
     "output_type": "stream",
     "text": [
      "--- 0.645545244216919 seconds ---\n",
      "0.7722222222222223\n"
     ]
    }
   ],
   "source": [
    "clf = tree.DecisionTreeClassifier(random_state=0)\n",
    "start_time = time.time()\n",
    "clf.fit(X_train_WG,y_train_WG)\n",
    "print(\"--- %s seconds ---\" % (time.time() - start_time))\n",
    "print(clf.score(X_test_WG,y_test_WG))"
   ]
  },
  {
   "cell_type": "code",
   "execution_count": 19,
   "metadata": {},
   "outputs": [
    {
     "name": "stdout",
     "output_type": "stream",
     "text": [
      "--- 0.8719372749328613 seconds ---\n",
      "0.775\n"
     ]
    }
   ],
   "source": [
    "clf = RandomForestClassifier(max_depth=4, random_state=0)\n",
    "start_time=time.time()\n",
    "clf.fit(X_train_WG,y_train_WG)\n",
    "print(\"--- %s seconds ---\" % (time.time() - start_time))\n",
    "print(clf.score(X_test_WG,y_test_WG))"
   ]
  },
  {
   "cell_type": "code",
   "execution_count": 20,
   "metadata": {},
   "outputs": [
    {
     "name": "stdout",
     "output_type": "stream",
     "text": [
      "--- 5.228765487670898 seconds ---\n",
      "0.7055555555555556\n"
     ]
    }
   ],
   "source": [
    "start_time = time.time()\n",
    "clf = AdaBoostClassifier(algorithm = 'SAMME')\n",
    "clf.fit(X_train_WG,y_train_WG)\n",
    "print(\"--- %s seconds ---\" % (time.time() - start_time))\n",
    "print(clf.score(X_test_WG,y_test_WG))"
   ]
  },
  {
   "cell_type": "code",
   "execution_count": 4,
   "metadata": {},
   "outputs": [
    {
     "name": "stdout",
     "output_type": "stream",
     "text": [
      "--- 1.827976942062378 seconds ---\n",
      "0.9583333333333334\n",
      "[[75  0  0  2]\n",
      " [ 0 91  0  0]\n",
      " [ 0  0 82 10]\n",
      " [ 0  0  3 97]]\n",
      "                  precision    recall  f1-score   support\n",
      "\n",
      "    MildDemented       1.00      0.97      0.99        77\n",
      "ModerateDemented       1.00      1.00      1.00        91\n",
      "     NonDemented       0.96      0.89      0.93        92\n",
      "VeryMildDemented       0.89      0.97      0.93       100\n",
      "\n",
      "        accuracy                           0.96       360\n",
      "       macro avg       0.96      0.96      0.96       360\n",
      "    weighted avg       0.96      0.96      0.96       360\n",
      "\n"
     ]
    }
   ],
   "source": [
    "start_time = time.time()\n",
    "clf = AdaBoostClassifier(base_estimator=SVC(kernel='linear'), algorithm='SAMME')\n",
    "clf.fit(X_train_WG,y_train_WG)\n",
    "print(\"--- %s seconds ---\" % (time.time() - start_time))\n",
    "print(clf.score(X_test_WG,y_test_WG))\n",
    "y_pred = clf.predict(X_test_WG)\n",
    "print(confusion_matrix(y_test_WG, y_pred))\n",
    "print(classification_report(y_test_WG,y_pred))"
   ]
  },
  {
   "cell_type": "code",
   "execution_count": 22,
   "metadata": {},
   "outputs": [
    {
     "name": "stdout",
     "output_type": "stream",
     "text": [
      "--- 0.726900577545166 seconds ---\n",
      "0.7194444444444444\n"
     ]
    }
   ],
   "source": [
    "start_time = time.time()\n",
    "clf = AdaBoostClassifier(base_estimator=GaussianNB(), algorithm='SAMME')\n",
    "clf.fit(X_train_WG,y_train_WG)\n",
    "print(\"--- %s seconds ---\" % (time.time() - start_time))\n",
    "print(clf.score(X_test_WG,y_test_WG))"
   ]
  },
  {
   "cell_type": "markdown",
   "metadata": {},
   "source": [
    "### PSO+GA"
   ]
  },
  {
   "cell_type": "code",
   "execution_count": 7,
   "metadata": {},
   "outputs": [],
   "source": [
    "X_train_PG=np.load(\"FeatureSelectionDatasets/X_train_PG.npy\")\n",
    "y_train_PG=np.load(\"FeatureSelectionDatasets/y_train_PG.npy\")\n",
    "X_test_PG=np.load(\"FeatureSelectionDatasets/X_test_PG.npy\")\n",
    "y_test_PG=np.load(\"FeatureSelectionDatasets/y_test_PG.npy\")"
   ]
  },
  {
   "cell_type": "code",
   "execution_count": 3,
   "metadata": {},
   "outputs": [
    {
     "name": "stdout",
     "output_type": "stream",
     "text": [
      "X_test_PG.shape (360, 3248)\n",
      "X_train_PG.shape (840, 3248)\n",
      "Y_test_PG.shape (840,)\n",
      "y_test_PG.shape (360,)\n"
     ]
    }
   ],
   "source": [
    "print('X_test_PG.shape',X_test_PG.shape)\n",
    "print('X_train_PG.shape',X_train_PG.shape)\n",
    "print('Y_test_PG.shape',y_train_PG.shape)\n",
    "print('y_test_PG.shape',y_test_PG.shape)"
   ]
  },
  {
   "cell_type": "code",
   "execution_count": 4,
   "metadata": {},
   "outputs": [
    {
     "name": "stdout",
     "output_type": "stream",
     "text": [
      "--- 2.7341129779815674 seconds ---\n",
      "0.9722222222222222\n"
     ]
    }
   ],
   "source": [
    "start_time = time.time()\n",
    "classifier = SVC(kernel = 'linear')\n",
    "classifier.fit(X_train_PG, y_train_PG)\n",
    "print(\"--- %s seconds ---\" % (time.time() - start_time))\n",
    "print(classifier.score(X_test_PG,y_test_PG))"
   ]
  },
  {
   "cell_type": "code",
   "execution_count": 5,
   "metadata": {},
   "outputs": [
    {
     "name": "stdout",
     "output_type": "stream",
     "text": [
      "--- 1.5133600234985352 seconds ---\n",
      "0.9611111111111111\n"
     ]
    }
   ],
   "source": [
    "from sklearn.neighbors import KNeighborsClassifier\n",
    "start_time = time.time()\n",
    "neigh = KNeighborsClassifier(n_neighbors=3)\n",
    "neigh.fit(X_train_PG, y_train_PG)\n",
    "print(\"--- %s seconds ---\" % (time.time() - start_time))\n",
    "print(neigh.score(X_test_PG,y_test_PG))"
   ]
  },
  {
   "cell_type": "code",
   "execution_count": 6,
   "metadata": {},
   "outputs": [
    {
     "name": "stdout",
     "output_type": "stream",
     "text": [
      "--- 1.8272039890289307 seconds ---\n",
      "0.8611111111111112\n"
     ]
    }
   ],
   "source": [
    "clf = tree.DecisionTreeClassifier(random_state=0)\n",
    "start_time = time.time()\n",
    "clf.fit(X_train_PG,y_train_PG)\n",
    "print(\"--- %s seconds ---\" % (time.time() - start_time))\n",
    "print(clf.score(X_test_PG,y_test_PG))"
   ]
  },
  {
   "cell_type": "code",
   "execution_count": 7,
   "metadata": {},
   "outputs": [
    {
     "name": "stdout",
     "output_type": "stream",
     "text": [
      "--- 1.368567943572998 seconds ---\n",
      "0.7722222222222223\n"
     ]
    }
   ],
   "source": [
    "clf = RandomForestClassifier(max_depth=4, random_state=0)\n",
    "start_time=time.time()\n",
    "clf.fit(X_train_PG,y_train_PG)\n",
    "print(\"--- %s seconds ---\" % (time.time() - start_time))\n",
    "print(clf.score(X_test_PG,y_test_PG))"
   ]
  },
  {
   "cell_type": "code",
   "execution_count": 8,
   "metadata": {},
   "outputs": [
    {
     "name": "stdout",
     "output_type": "stream",
     "text": [
      "--- 13.031774282455444 seconds ---\n",
      "0.725\n"
     ]
    }
   ],
   "source": [
    "start_time = time.time()\n",
    "clf = AdaBoostClassifier(algorithm = 'SAMME')\n",
    "clf.fit(X_train_PG,y_train_PG)\n",
    "print(\"--- %s seconds ---\" % (time.time() - start_time))\n",
    "print(clf.score(X_test_PG,y_test_PG))"
   ]
  },
  {
   "cell_type": "code",
   "execution_count": 8,
   "metadata": {},
   "outputs": [
    {
     "name": "stdout",
     "output_type": "stream",
     "text": [
      "--- 7.766524314880371 seconds ---\n",
      "0.9722222222222222\n",
      "[[76  0  0  1]\n",
      " [ 0 91  0  0]\n",
      " [ 0  0 84  8]\n",
      " [ 0  0  1 99]]\n",
      "                  precision    recall  f1-score   support\n",
      "\n",
      "    MildDemented       1.00      0.99      0.99        77\n",
      "ModerateDemented       1.00      1.00      1.00        91\n",
      "     NonDemented       0.99      0.91      0.95        92\n",
      "VeryMildDemented       0.92      0.99      0.95       100\n",
      "\n",
      "        accuracy                           0.97       360\n",
      "       macro avg       0.98      0.97      0.97       360\n",
      "    weighted avg       0.97      0.97      0.97       360\n",
      "\n"
     ]
    }
   ],
   "source": [
    "start_time = time.time()\n",
    "clf = AdaBoostClassifier(base_estimator=SVC(kernel='linear'), algorithm='SAMME')\n",
    "clf.fit(X_train_PG,y_train_PG)\n",
    "print(\"--- %s seconds ---\" % (time.time() - start_time))\n",
    "print(clf.score(X_test_PG,y_test_PG))\n",
    "y_pred = clf.predict(X_test_PG)\n",
    "print(confusion_matrix(y_test_PG, y_pred))\n",
    "print(classification_report(y_test_PG,y_pred))"
   ]
  },
  {
   "cell_type": "code",
   "execution_count": 10,
   "metadata": {},
   "outputs": [
    {
     "name": "stdout",
     "output_type": "stream",
     "text": [
      "--- 3.483342170715332 seconds ---\n",
      "0.7527777777777778\n"
     ]
    }
   ],
   "source": [
    "start_time = time.time()\n",
    "clf = AdaBoostClassifier(base_estimator=GaussianNB(), algorithm='SAMME')\n",
    "clf.fit(X_train_PG,y_train_PG)\n",
    "print(\"--- %s seconds ---\" % (time.time() - start_time))\n",
    "print(clf.score(X_test_PG,y_test_PG))"
   ]
  },
  {
   "cell_type": "code",
   "execution_count": 10,
   "metadata": {},
   "outputs": [
    {
     "data": {
      "text/plain": [
       "<matplotlib.axes._subplots.AxesSubplot at 0x1b76ac408d0>"
      ]
     },
     "execution_count": 10,
     "metadata": {},
     "output_type": "execute_result"
    },
    {
     "data": {
      "image/png": "[encoded data removed]",
      "text/plain": [
       "<Figure size 288x288 with 2 Axes>"
      ]
     },
     "metadata": {},
     "output_type": "display_data"
    }
   ],
   "source": [
    "import seaborn as sn\n",
    "import pandas as pd\n",
    "import matplotlib.pyplot as plt\n",
    "#original\n",
    "array=[[ 76 ,  0,   0,   1],\n",
    " [  0,  91,   0,   0],\n",
    " [  0,   0,  85,   7],\n",
    " [  0,   0,   0, 100]]\n",
    "df_cm = pd.DataFrame(array)\n",
    "plt.figure(figsize = (4,4))\n",
    "sn.heatmap(df_cm, annot=True)"
   ]
  },
  {
   "cell_type": "code",
   "execution_count": 11,
   "metadata": {},
   "outputs": [
    {
     "data": {
      "text/plain": [
       "<matplotlib.axes._subplots.AxesSubplot at 0x1b76b0456a0>"
      ]
     },
     "execution_count": 11,
     "metadata": {},
     "output_type": "execute_result"
    },
    {
     "data": {
      "image/png": "[encoded data removed]",
      "text/plain": [
       "<Figure size 288x288 with 2 Axes>"
      ]
     },
     "metadata": {},
     "output_type": "display_data"
    }
   ],
   "source": [
    "#WOA+GA\n",
    "array=[[75,  0,  0,  2],\n",
    " [ 0, 91,  0,  0],\n",
    " [ 0,  0, 82, 10],\n",
    " [ 0,  0,  3, 97]]\n",
    "df_cm = pd.DataFrame(array)\n",
    "plt.figure(figsize = (4,4))\n",
    "sn.heatmap(df_cm, annot=True)"
   ]
  },
  {
   "cell_type": "code",
   "execution_count": 12,
   "metadata": {},
   "outputs": [
    {
     "data": {
      "text/plain": [
       "<matplotlib.axes._subplots.AxesSubplot at 0x1b76d1d0eb8>"
      ]
     },
     "execution_count": 12,
     "metadata": {},
     "output_type": "execute_result"
    },
    {
     "data": {
      "image/png": "[encoded data removed]",
      "text/plain": [
       "<Figure size 288x288 with 2 Axes>"
      ]
     },
     "metadata": {},
     "output_type": "display_data"
    }
   ],
   "source": [
    "#PSO+GA\n",
    "array=[[76,  0,  0,  1],\n",
    " [ 0, 91,  0,  0],\n",
    " [ 0,  0, 84,  8],\n",
    " [ 0,  0,  1, 99]]\n",
    "df_cm = pd.DataFrame(array)\n",
    "plt.figure(figsize = (4,4))\n",
    "sn.heatmap(df_cm, annot=True)"
   ]
  },
  {
   "cell_type": "code",
   "execution_count": 31,
   "metadata": {},
   "outputs": [
    {
     "data": {
      "image/png": "[encoded data removed]",
      "text/plain": [
       "<Figure size 432x288 with 1 Axes>"
      ]
     },
     "metadata": {},
     "output_type": "display_data"
    }
   ],
   "source": [
    "import matplotlib.pyplot as plt\n",
    " \n",
    "# data to plot\n",
    "n_groups = 7\n",
    "original = (97.77, 96.38, 84.16, 77.5, 75.83, 97.77, 75.55)\n",
    "GA = (97.22, 96.66, 85.27, 77.77, 73.61, 97.22, 76.66)\n",
    "PSO = (96.38, 95.27, 83.61, 77.77, 70.55, 96.38, 73.05)\n",
    "WOA = (91.94, 96.38, 80.55, 76.94, 70, 91.94, 74.72)\n",
    "WOA_GA = (95.83, 95, 77.22, 77.5, 70.55, 95.83, 71.94)\n",
    "PSO_GA = (97.22, 96.11, 86.11, 77.22, 72.5, 97.22, 75.27)\n",
    "\n",
    "# create plot\n",
    "fig, ax = plt.subplots()\n",
    "index = np.arange(n_groups)\n",
    "bar_width = 0.15\n",
    "opacity = 1.0\n",
    " \n",
    "rects1 = plt.bar(index,original, bar_width,\n",
    "alpha=opacity,\n",
    "color='darkblue',\n",
    "label='Original')\n",
    " \n",
    "rects2 = plt.bar(index + bar_width, GA, bar_width,\n",
    "alpha=opacity,\n",
    "color='mediumblue',\n",
    "label='GA')\n",
    "\n",
    "rects3 = plt.bar(index + bar_width + bar_width , PSO, bar_width,\n",
    "alpha=opacity,\n",
    "color='royalblue',\n",
    "label='PSO')\n",
    " \n",
    "rects4 = plt.bar(index + bar_width + bar_width + bar_width , WOA, bar_width,\n",
    "alpha=opacity,\n",
    "color='dodgerblue',\n",
    "label='WOA')\n",
    " \n",
    "rects5 = plt.bar(index + bar_width + bar_width + bar_width + bar_width, WOA_GA, bar_width,\n",
    "alpha=opacity,\n",
    "color='deepskyblue',\n",
    "label='WOA_GA')\n",
    "\n",
    "rects6 = plt.bar(index + bar_width + bar_width + bar_width + bar_width + bar_width, PSO_GA, bar_width,\n",
    "alpha=opacity,\n",
    "color='lightblue',\n",
    "label='PSO_GA')\n",
    " \n",
    "plt.xlabel('Classifiers')\n",
    "plt.ylabel('Scores')\n",
    "plt.title('Accuracy')\n",
    "plt.xticks(index + bar_width, ('SVM', 'KNN', 'D-Tree', 'RForest', 'Adaboost', 'AdaSVM', 'AdaNaive'))\n",
    "plt.legend()\n",
    " \n",
    "#plt.tight_layout()\n",
    "plt.show()"
   ]
  },
  {
   "cell_type": "code",
   "execution_count": 33,
   "metadata": {},
   "outputs": [
    {
     "data": {
      "image/png": "[encoded data removed]",
      "text/plain": [
       "<Figure size 432x288 with 1 Axes>"
      ]
     },
     "metadata": {},
     "output_type": "display_data"
    }
   ],
   "source": [
    "# data to plot\n",
    "n_groups = 7\n",
    "original = (33.96, 18.92, 33.50, 9.95, 441.67, 79.46, 41.68)\n",
    "GA = (5.62, 3.40, 2.91, 1.84, 27.48, 13.67, 8.76)\n",
    "PSO = (0.71, 0.62, 0.51, 0.86, 4.38, 1.82, 1.32)\n",
    "WOA = (0.53, 0.25, 0.39, 0.64, 2.38, 0.66, 0.56)\n",
    "WOA_GA = (0.929, 0.503, 0.64, 0.87, 5.22, 1.82, 0.72)\n",
    "PSO_GA = (2.73, 1.51, 1.82, 1.36, 13.03, 7.76, 3.48)\n",
    "\n",
    "# create plot\n",
    "fig, ax = plt.subplots()\n",
    "index = np.arange(n_groups)\n",
    "bar_width = 0.15\n",
    "opacity = 1.0\n",
    " \n",
    "rects1 = plt.bar(index,original, bar_width,\n",
    "alpha=opacity,\n",
    "color='darkblue',\n",
    "label='Original')\n",
    " \n",
    "rects2 = plt.bar(index + bar_width, GA, bar_width,\n",
    "alpha=opacity,\n",
    "color='mediumblue',\n",
    "label='GA')\n",
    "\n",
    "rects3 = plt.bar(index + bar_width + bar_width , PSO, bar_width,\n",
    "alpha=opacity,\n",
    "color='royalblue',\n",
    "label='PSO')\n",
    " \n",
    "rects4 = plt.bar(index + bar_width + bar_width + bar_width , WOA, bar_width,\n",
    "alpha=opacity,\n",
    "color='dodgerblue',\n",
    "label='WOA')\n",
    " \n",
    "rects5 = plt.bar(index + bar_width + bar_width + bar_width + bar_width, WOA_GA, bar_width,\n",
    "alpha=opacity,\n",
    "color='deepskyblue',\n",
    "label='WOA_GA')\n",
    "\n",
    "rects6 = plt.bar(index + bar_width + bar_width + bar_width + bar_width + bar_width, PSO_GA, bar_width,\n",
    "alpha=opacity,\n",
    "color='lightblue',\n",
    "label='PSO_GA')\n",
    "\n",
    "plt.xlabel('Classifiers')\n",
    "plt.ylabel('Seconds')\n",
    "plt.title('Time Taken')\n",
    "plt.xticks(index + bar_width, ('SVM', 'KNN', 'D-Tree', 'RForest', 'Adaboost', 'AdaSVM', 'AdaNaive'))\n",
    "plt.legend()\n",
    " \n",
    "plt.tight_layout()\n",
    "plt.show()"
   ]
  },
  {
   "cell_type": "code",
   "execution_count": 37,
   "metadata": {},
   "outputs": [
    {
     "data": {
      "image/png": "[encoded data removed]",
      "text/plain": [
       "<Figure size 432x288 with 1 Axes>"
      ]
     },
     "metadata": {},
     "output_type": "display_data"
    }
   ],
   "source": [
    "import matplotlib.pyplot as plt\n",
    " \n",
    "# data to plot\n",
    "n_groups = 7\n",
    "original = (97.77, 96.38, 84.16, 77.5, 75.83, 97.77, 75.55)\n",
    "GA = (97.22, 96.66, 85.27, 77.77, 73.61, 97.22, 76.66)\n",
    "PSO = (96.38, 95.27, 83.61, 77.77, 70.55, 96.38, 73.05)\n",
    "WOA = (91.94, 96.38, 80.55, 76.94, 70, 91.94, 74.72)\n",
    "WOA_GA = (95.83, 95, 77.22, 77.5, 70.55, 95.83, 71.94)\n",
    "PSO_GA = (97.22, 96.11, 86.11, 77.22, 72.5, 97.22, 75.27)\n",
    "\n",
    "# create plot\n",
    "fig, ax = plt.subplots()\n",
    "index = np.arange(n_groups)\n",
    "bar_width = 0.25\n",
    "opacity = 1.0\n",
    " \n",
    "rects1 = plt.bar(index,original, bar_width,\n",
    "alpha=opacity,\n",
    "color='dodgerblue',\n",
    "label='Original')\n",
    " \n",
    "\n",
    " \n",
    "plt.xlabel('Classifiers')\n",
    "plt.ylabel('Scores')\n",
    "plt.title('Accuracy')\n",
    "plt.xticks(index + bar_width, ('SVM', 'KNN', 'D-Tree', 'RForest', 'Adaboost', 'AdaSVM', 'AdaNaive'))\n",
    "plt.legend()\n",
    " \n",
    "#plt.tight_layout()\n",
    "plt.show()"
   ]
  },
  {
   "cell_type": "code",
   "execution_count": 45,
   "metadata": {},
   "outputs": [
    {
     "data": {
      "image/png": "[encoded data removed]",
      "text/plain": [
       "<Figure size 432x288 with 1 Axes>"
      ]
     },
     "metadata": {},
     "output_type": "display_data"
    }
   ],
   "source": [
    "import matplotlib.pyplot as plt\n",
    " \n",
    "# data to plot\n",
    "n_groups = 7\n",
    "original = (97.77, 96.38, 84.16, 77.5, 75.83, 97.77, 75.55)\n",
    "GA = (97.22, 96.66, 85.27, 77.77, 73.61, 97.22, 76.66)\n",
    "PSO = (96.38, 95.27, 83.61, 77.77, 70.55, 96.38, 73.05)\n",
    "WOA = (91.94, 96.38, 80.55, 76.94, 70, 91.94, 74.72)\n",
    "WOA_GA = (95.83, 95, 77.22, 77.5, 70.55, 95.83, 71.94)\n",
    "PSO_GA = (97.22, 96.11, 86.11, 77.22, 72.5, 97.22, 75.27)\n",
    "\n",
    "# create plot\n",
    "fig, ax = plt.subplots()\n",
    "index = np.arange(n_groups)\n",
    "bar_width = 0.25\n",
    "opacity = 1.0\n",
    " \n",
    "\n",
    "rects2 = plt.bar(index + bar_width, GA, bar_width,\n",
    "alpha=opacity,\n",
    "color='darkblue',\n",
    "label='GA')\n",
    "\n",
    "rects3 = plt.bar(index + bar_width + bar_width , PSO, bar_width,\n",
    "alpha=opacity,\n",
    "color='royalblue',\n",
    "label='PSO')\n",
    "\n",
    "rects4 = plt.bar(index + bar_width + bar_width + bar_width , WOA, bar_width,\n",
    "alpha=opacity,\n",
    "color='deepskyblue',\n",
    "label='WOA')\n",
    " \n",
    "plt.xlabel('Classifiers')\n",
    "plt.ylabel('Scores')\n",
    "plt.title('Accuracy')\n",
    "plt.xticks(index + bar_width, ('SVM', 'KNN', 'D-Tree', 'RForest', 'Adaboost', 'AdaSVM', 'AdaNaive'))\n",
    "plt.legend()\n",
    " \n",
    "#plt.tight_layout()\n",
    "plt.show()"
   ]
  },
  {
   "cell_type": "code",
   "execution_count": 48,
   "metadata": {},
   "outputs": [
    {
     "data": {
      "image/png": "[encoded data removed]",
      "text/plain": [
       "<Figure size 432x288 with 1 Axes>"
      ]
     },
     "metadata": {},
     "output_type": "display_data"
    }
   ],
   "source": [
    "import matplotlib.pyplot as plt\n",
    " \n",
    "# data to plot\n",
    "n_groups = 7\n",
    "original = (97.77, 96.38, 84.16, 77.5, 75.83, 97.77, 75.55)\n",
    "GA = (97.22, 96.66, 85.27, 77.77, 73.61, 97.22, 76.66)\n",
    "PSO = (96.38, 95.27, 83.61, 77.77, 70.55, 96.38, 73.05)\n",
    "WOA = (91.94, 96.38, 80.55, 76.94, 70, 91.94, 74.72)\n",
    "WOA_GA = (95.83, 95, 77.22, 77.5, 70.55, 95.83, 71.94)\n",
    "PSO_GA = (97.22, 96.11, 86.11, 77.22, 72.5, 97.22, 75.27)\n",
    "\n",
    "# create plot\n",
    "fig, ax = plt.subplots()\n",
    "index = np.arange(n_groups)\n",
    "bar_width = 0.25\n",
    "opacity = 1.0\n",
    "\n",
    " \n",
    "rects5 = plt.bar(index + bar_width + bar_width + bar_width + bar_width, WOA_GA, bar_width,\n",
    "alpha=opacity,\n",
    "color='mediumblue',\n",
    "label='WOA_GA')\n",
    "\n",
    "rects6 = plt.bar(index + bar_width + bar_width + bar_width + bar_width + bar_width, PSO_GA, bar_width,\n",
    "alpha=opacity,\n",
    "color='dodgerblue',\n",
    "label='PSO_GA')\n",
    " \n",
    "plt.xlabel('Classifiers')\n",
    "plt.ylabel('Scores')\n",
    "plt.title('Accuracy')\n",
    "plt.xticks(index + bar_width, ('SVM', 'KNN', 'D-Tree', 'RForest', 'Adaboost', 'AdaSVM', 'AdaNaive'))\n",
    "plt.legend()\n",
    " \n",
    "#plt.tight_layout()\n",
    "plt.show()"
   ]
  },
  {
   "cell_type": "code",
   "execution_count": null,
   "metadata": {},
   "outputs": [],
   "source": []
  }
 ],
 "metadata": {
  "kernelspec": {
   "display_name": "Python 3",
   "language": "python",
   "name": "python3"
  },
  "language_info": {
   "codemirror_mode": {
    "name": "ipython",
    "version": 3
   },
   "file_extension": ".py",
   "mimetype": "text/x-python",
   "name": "python",
   "nbconvert_exporter": "python",
   "pygments_lexer": "ipython3",
   "version": "3.6.5"
  }
 },
 "nbformat": 4,
 "nbformat_minor": 2
}
