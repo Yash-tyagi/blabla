{
 "cells": [
  {
   "cell_type": "code",
   "execution_count": null,
   "metadata": {},
   "outputs": [],
   "source": [
    "import csv\n",
    "import os\n",
    "from PIL import Image\n",
    "from sklearn.cross_validation import train_test_split\n",
    "import numpy as np"
   ]
  },
  {
   "cell_type": "code",
   "execution_count": null,
   "metadata": {},
   "outputs": [],
   "source": [
    "files=os.listdir(\"final_train/\")\n",
    "if('.DS_Store' in files):\n",
    "    files.remove('.DS_Store')\n",
    "    \n",
    "file_path=\"final_train/\"\n",
    "\n",
    "X = np.array([np.array(Image.open(file_path+img)) for img in files])\n",
    "X.flatten()\n",
    "\n",
    "print(X.shape)\n",
    "\n",
    "np.save(\"X_300each.npy\",X)\n",
    "\n",
    "reader = csv.reader(open('lables300.csv', 'r'))\n",
    "d = {}\n",
    "main_list=list()\n",
    "for row in reader:\n",
    "    a,b= row\n",
    "    d={}\n",
    "    d['file']=a\n",
    "    d['target']=b\n",
    "    main_list.append(d)\n",
    "    \n",
    "level_main_list=list()\n",
    "\n",
    "levels_list=list()\n",
    "for j in range (1200):\n",
    "        name_of_file=files[j]\n",
    "        for i in range (0,len(main_list)):\n",
    "            if(main_list[i]['file'] == name_of_file):\n",
    "                #print(name_of_file,end='')\n",
    "                levels_list.append(main_list[i]['target'])\n",
    "                \n",
    "np.save(\"Y_300each.npy\",levels_list)\n",
    "\n"
   ]
  },
  {
   "cell_type": "code",
   "execution_count": null,
   "metadata": {},
   "outputs": [],
   "source": [
    "with open(\"lables300.csv\",\"w\",newline=\"\") as csvFile:\n",
    "    writer=csv.writer(csvFile)\n",
    "    writer.writerow(['file','target'])\n",
    "    for dir in os.listdir(\"300each\"):\n",
    "        for filename in os.listdir(\"300each/\"+dir):\n",
    "            writer.writerow([filename,dir])"
   ]
  },
  {
   "cell_type": "code",
   "execution_count": null,
   "metadata": {},
   "outputs": [],
   "source": [
    "X = np.load(\"X_300each.npy\")\n",
    "print(X.shape)\n",
    "y= np.load(\"Y_300each.npy\")\n",
    "\n",
    "X_train, X_test, y_train, y_test = train_test_split(X, y, test_size = 0.30, random_state = 0)\n",
    "\n",
    "np.save(\"X_train.npy\",X_train)\n",
    "np.save(\"X_test.npy\",X_test)\n",
    "np.save(\"y_train.npy\",y_train)\n",
    "np.save(\"y_test.npy\",y_test)"
   ]
  }
 ],
 "metadata": {
  "kernelspec": {
   "display_name": "Python 3",
   "language": "python",
   "name": "python3"
  },
  "language_info": {
   "codemirror_mode": {
    "name": "ipython",
    "version": 3
   },
   "file_extension": ".py",
   "mimetype": "text/x-python",
   "name": "python",
   "nbconvert_exporter": "python",
   "pygments_lexer": "ipython3",
   "version": "3.6.5"
  }
 },
 "nbformat": 4,
 "nbformat_minor": 2
}
