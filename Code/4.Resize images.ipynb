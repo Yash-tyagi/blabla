{
 "cells": [
  {
   "cell_type": "code",
   "execution_count": null,
   "metadata": {},
   "outputs": [],
   "source": [
    "import numpy as np\n",
    "import cv2\n",
    "from PIL import Image\n",
    "from skimage.measure import compare_ssim\n",
    "import argparse\n",
    "import imutils\n",
    "from PIL import ImageFile\n",
    "ImageFile.LOAD_TRUNCATED_IMAGES=True\n",
    "from skimage import io\n",
    "from skimage.transform import resize\n",
    "import numpy as np\n",
    "import os\n",
    "import sys\n"
   ]
  },
  {
   "cell_type": "code",
   "execution_count": null,
   "metadata": {},
   "outputs": [],
   "source": [
    "files_resize=os.listdir(\"/Users/anirbandutta/Desktop/CNN_Dataset\")\n",
    "if('.DS_Store' in files_resize):\n",
    "    files_resize.remove('.DS_Store')\n",
    "files_for_optic_resize= files_resize\n",
    "files_for_optic_resize"
   ]
  },
  {
   "cell_type": "code",
   "execution_count": null,
   "metadata": {},
   "outputs": [],
   "source": [
    "new_path=\"/Users/anirbandutta/Desktop/CNN_Dataset/\""
   ]
  },
  {
   "cell_type": "code",
   "execution_count": null,
   "metadata": {},
   "outputs": [],
   "source": [
    "for file in files_for_optic_resize:\n",
    "    img = io.imread(\"/Users/anirbandutta/Desktop/CNN_Dataset/\" + file)\n",
    "    \n",
    "    height, width = img.shape[:2]\n",
    "    #h=np.size(img,0)\n",
    "    #w=np.size(img,1)\n",
    "    max_height = 375\n",
    "    max_width = 375\n",
    "\n",
    "# only shrink if img is bigger than required\n",
    "    if max_height < height or max_width < width:\n",
    "    # get scaling factor\n",
    "        scaling_factor = max_height / float(height)\n",
    "        if max_width/float(width) < scaling_factor:\n",
    "            scaling_factor = max_width / float(width)\n",
    "    # resize image\n",
    "    img = cv2.resize(img, None, fx=scaling_factor, fy=scaling_factor, interpolation=cv2.INTER_AREA)\n",
    "    ##file='extracted_exuadates_resize_'+file\n",
    "    image = cv2.resize(img,(224,224))\n",
    "    cv2.imwrite(os.path.join(new_path,file),image)\n"
   ]
  }
 ],
 "metadata": {
  "kernelspec": {
   "display_name": "Python 3",
   "language": "python",
   "name": "python3"
  },
  "language_info": {
   "codemirror_mode": {
    "name": "ipython",
    "version": 3
   },
   "file_extension": ".py",
   "mimetype": "text/x-python",
   "name": "python",
   "nbconvert_exporter": "python",
   "pygments_lexer": "ipython3",
   "version": "3.6.5"
  }
 },
 "nbformat": 4,
 "nbformat_minor": 2
}
